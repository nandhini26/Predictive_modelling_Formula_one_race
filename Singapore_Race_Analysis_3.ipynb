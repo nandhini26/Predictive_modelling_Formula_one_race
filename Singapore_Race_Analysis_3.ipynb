{
 "cells": [
  {
   "cell_type": "markdown",
   "metadata": {},
   "source": [
    "### Singapore race ML Analysis"
   ]
  },
  {
   "cell_type": "markdown",
   "metadata": {},
   "source": [
    "### Singapore Race Analysis-part:3"
   ]
  },
  {
   "cell_type": "code",
   "execution_count": 1,
   "metadata": {},
   "outputs": [],
   "source": [
    "import numpy as np\n",
    "import pandas as pd\n",
    "import matplotlib.pyplot as plt\n",
    "%matplotlib inline\n",
    "import seaborn as sns\n",
    "import statsmodels.api as sm\n",
    "from scipy import stats\n",
    "import statsmodels.formula.api as smf"
   ]
  },
  {
   "cell_type": "code",
   "execution_count": 2,
   "metadata": {},
   "outputs": [],
   "source": [
    "#REading singapore weather,constructors,details\n",
    "df1=pd.read_csv('./intermediate_files/singalore_weather_constructor.csv',index_col=0)"
   ]
  },
  {
   "cell_type": "code",
   "execution_count": 3,
   "metadata": {},
   "outputs": [
    {
     "data": {
      "text/plain": [
       "raceId             False\n",
       "driverId           False\n",
       "D_points           False\n",
       "D-position         False\n",
       "D_wins             False\n",
       "race_year          False\n",
       "race_round         False\n",
       "race_name          False\n",
       "constructorId      False\n",
       "starting_grid      False\n",
       "Ending_position    False\n",
       "points_scored      False\n",
       "laps_completed     False\n",
       "statusId           False\n",
       "D_age              False\n",
       "con_points         False\n",
       "con_position       False\n",
       "Conwins            False\n",
       "round              False\n",
       "name               False\n",
       "visibility         False\n",
       "temperatureHigh    False\n",
       "temperatureLow     False\n",
       "windSpeed          False\n",
       "windBearing        False\n",
       "humidity           False\n",
       "Top_15_position    False\n",
       "dtype: bool"
      ]
     },
     "execution_count": 3,
     "metadata": {},
     "output_type": "execute_result"
    }
   ],
   "source": [
    "df1.isna().any()"
   ]
  },
  {
   "cell_type": "code",
   "execution_count": 4,
   "metadata": {},
   "outputs": [],
   "source": [
    "df_pit_stops=pd.read_csv('./Capstone_core_data/pit_stops.csv')"
   ]
  },
  {
   "cell_type": "code",
   "execution_count": 5,
   "metadata": {},
   "outputs": [
    {
     "data": {
      "text/plain": [
       "raceId          False\n",
       "driverId        False\n",
       "stop            False\n",
       "lap             False\n",
       "time            False\n",
       "duration        False\n",
       "milliseconds    False\n",
       "dtype: bool"
      ]
     },
     "execution_count": 5,
     "metadata": {},
     "output_type": "execute_result"
    }
   ],
   "source": [
    "df_pit_stops.isna().any()"
   ]
  },
  {
   "cell_type": "code",
   "execution_count": 6,
   "metadata": {},
   "outputs": [
    {
     "data": {
      "text/plain": [
       "(7436, 7)"
      ]
     },
     "execution_count": 6,
     "metadata": {},
     "output_type": "execute_result"
    }
   ],
   "source": [
    "df_pit_stops.shape"
   ]
  },
  {
   "cell_type": "code",
   "execution_count": 7,
   "metadata": {},
   "outputs": [],
   "source": [
    "df_pit_stops.columns=['raceId','driverId','#_of_stops','which_laps','what_time','duration','milliseconds']"
   ]
  },
  {
   "cell_type": "code",
   "execution_count": 8,
   "metadata": {},
   "outputs": [
    {
     "data": {
      "text/html": [
       "<div>\n",
       "<style scoped>\n",
       "    .dataframe tbody tr th:only-of-type {\n",
       "        vertical-align: middle;\n",
       "    }\n",
       "\n",
       "    .dataframe tbody tr th {\n",
       "        vertical-align: top;\n",
       "    }\n",
       "\n",
       "    .dataframe thead th {\n",
       "        text-align: right;\n",
       "    }\n",
       "</style>\n",
       "<table border=\"1\" class=\"dataframe\">\n",
       "  <thead>\n",
       "    <tr style=\"text-align: right;\">\n",
       "      <th></th>\n",
       "      <th>raceId</th>\n",
       "      <th>driverId</th>\n",
       "      <th>#_of_stops</th>\n",
       "      <th>which_laps</th>\n",
       "      <th>what_time</th>\n",
       "      <th>duration</th>\n",
       "      <th>milliseconds</th>\n",
       "    </tr>\n",
       "  </thead>\n",
       "  <tbody>\n",
       "    <tr>\n",
       "      <td>0</td>\n",
       "      <td>841</td>\n",
       "      <td>153</td>\n",
       "      <td>1</td>\n",
       "      <td>1</td>\n",
       "      <td>17:05:23</td>\n",
       "      <td>26.898</td>\n",
       "      <td>26898</td>\n",
       "    </tr>\n",
       "    <tr>\n",
       "      <td>1</td>\n",
       "      <td>841</td>\n",
       "      <td>30</td>\n",
       "      <td>1</td>\n",
       "      <td>1</td>\n",
       "      <td>17:05:52</td>\n",
       "      <td>25.021</td>\n",
       "      <td>25021</td>\n",
       "    </tr>\n",
       "    <tr>\n",
       "      <td>2</td>\n",
       "      <td>841</td>\n",
       "      <td>17</td>\n",
       "      <td>1</td>\n",
       "      <td>11</td>\n",
       "      <td>17:20:48</td>\n",
       "      <td>23.426</td>\n",
       "      <td>23426</td>\n",
       "    </tr>\n",
       "    <tr>\n",
       "      <td>3</td>\n",
       "      <td>841</td>\n",
       "      <td>4</td>\n",
       "      <td>1</td>\n",
       "      <td>12</td>\n",
       "      <td>17:22:34</td>\n",
       "      <td>23.251</td>\n",
       "      <td>23251</td>\n",
       "    </tr>\n",
       "    <tr>\n",
       "      <td>4</td>\n",
       "      <td>841</td>\n",
       "      <td>13</td>\n",
       "      <td>1</td>\n",
       "      <td>13</td>\n",
       "      <td>17:24:10</td>\n",
       "      <td>23.842</td>\n",
       "      <td>23842</td>\n",
       "    </tr>\n",
       "  </tbody>\n",
       "</table>\n",
       "</div>"
      ],
      "text/plain": [
       "   raceId  driverId  #_of_stops  which_laps what_time duration  milliseconds\n",
       "0     841       153           1           1  17:05:23   26.898         26898\n",
       "1     841        30           1           1  17:05:52   25.021         25021\n",
       "2     841        17           1          11  17:20:48   23.426         23426\n",
       "3     841         4           1          12  17:22:34   23.251         23251\n",
       "4     841        13           1          13  17:24:10   23.842         23842"
      ]
     },
     "execution_count": 8,
     "metadata": {},
     "output_type": "execute_result"
    }
   ],
   "source": [
    "df_pit_stops.head()"
   ]
  },
  {
   "cell_type": "code",
   "execution_count": 9,
   "metadata": {},
   "outputs": [],
   "source": [
    "df_pit_stops=df_pit_stops.drop(['what_time','duration'],axis=1)"
   ]
  },
  {
   "cell_type": "code",
   "execution_count": 81,
   "metadata": {},
   "outputs": [],
   "source": [
    "#df_temprary.groupby(['raceId','driverId']).D_points.sum()\n",
    "df_pit_stops=df_pit_stops.groupby(['raceId','driverId']).milliseconds.mean().reset_index().rename(columns={'milliseconds':'averagetime_at_pitstop'})\n",
    "\n",
    "#df2 = df_pit_stops.groupby(['raceId','driverId'], as_index=False)['average'].mean()"
   ]
  },
  {
   "cell_type": "code",
   "execution_count": 82,
   "metadata": {},
   "outputs": [],
   "source": [
    "df_pit_stops.to_csv('./intermediate_files/average_pit_Stop.csv')"
   ]
  },
  {
   "cell_type": "code",
   "execution_count": 83,
   "metadata": {},
   "outputs": [
    {
     "data": {
      "text/html": [
       "<div>\n",
       "<style scoped>\n",
       "    .dataframe tbody tr th:only-of-type {\n",
       "        vertical-align: middle;\n",
       "    }\n",
       "\n",
       "    .dataframe tbody tr th {\n",
       "        vertical-align: top;\n",
       "    }\n",
       "\n",
       "    .dataframe thead th {\n",
       "        text-align: right;\n",
       "    }\n",
       "</style>\n",
       "<table border=\"1\" class=\"dataframe\">\n",
       "  <thead>\n",
       "    <tr style=\"text-align: right;\">\n",
       "      <th></th>\n",
       "      <th>raceId</th>\n",
       "      <th>driverId</th>\n",
       "      <th>averagetime_at_pitstop</th>\n",
       "    </tr>\n",
       "  </thead>\n",
       "  <tbody>\n",
       "    <tr>\n",
       "      <td>0</td>\n",
       "      <td>841</td>\n",
       "      <td>1</td>\n",
       "      <td>23213.0</td>\n",
       "    </tr>\n",
       "    <tr>\n",
       "      <td>1</td>\n",
       "      <td>841</td>\n",
       "      <td>2</td>\n",
       "      <td>24046.0</td>\n",
       "    </tr>\n",
       "    <tr>\n",
       "      <td>2</td>\n",
       "      <td>841</td>\n",
       "      <td>3</td>\n",
       "      <td>23716.0</td>\n",
       "    </tr>\n",
       "    <tr>\n",
       "      <td>3</td>\n",
       "      <td>841</td>\n",
       "      <td>4</td>\n",
       "      <td>24055.0</td>\n",
       "    </tr>\n",
       "    <tr>\n",
       "      <td>4</td>\n",
       "      <td>841</td>\n",
       "      <td>5</td>\n",
       "      <td>24865.0</td>\n",
       "    </tr>\n",
       "    <tr>\n",
       "      <td>...</td>\n",
       "      <td>...</td>\n",
       "      <td>...</td>\n",
       "      <td>...</td>\n",
       "    </tr>\n",
       "    <tr>\n",
       "      <td>3576</td>\n",
       "      <td>1030</td>\n",
       "      <td>841</td>\n",
       "      <td>22082.5</td>\n",
       "    </tr>\n",
       "    <tr>\n",
       "      <td>3577</td>\n",
       "      <td>1030</td>\n",
       "      <td>844</td>\n",
       "      <td>21485.5</td>\n",
       "    </tr>\n",
       "    <tr>\n",
       "      <td>3578</td>\n",
       "      <td>1030</td>\n",
       "      <td>846</td>\n",
       "      <td>22974.0</td>\n",
       "    </tr>\n",
       "    <tr>\n",
       "      <td>3579</td>\n",
       "      <td>1030</td>\n",
       "      <td>847</td>\n",
       "      <td>22272.0</td>\n",
       "    </tr>\n",
       "    <tr>\n",
       "      <td>3580</td>\n",
       "      <td>1030</td>\n",
       "      <td>848</td>\n",
       "      <td>22028.0</td>\n",
       "    </tr>\n",
       "  </tbody>\n",
       "</table>\n",
       "<p>3581 rows × 3 columns</p>\n",
       "</div>"
      ],
      "text/plain": [
       "      raceId  driverId  averagetime_at_pitstop\n",
       "0        841         1                 23213.0\n",
       "1        841         2                 24046.0\n",
       "2        841         3                 23716.0\n",
       "3        841         4                 24055.0\n",
       "4        841         5                 24865.0\n",
       "...      ...       ...                     ...\n",
       "3576    1030       841                 22082.5\n",
       "3577    1030       844                 21485.5\n",
       "3578    1030       846                 22974.0\n",
       "3579    1030       847                 22272.0\n",
       "3580    1030       848                 22028.0\n",
       "\n",
       "[3581 rows x 3 columns]"
      ]
     },
     "metadata": {},
     "output_type": "display_data"
    }
   ],
   "source": [
    "display(df_pit_stops)"
   ]
  },
  {
   "cell_type": "code",
   "execution_count": 13,
   "metadata": {},
   "outputs": [],
   "source": [
    "df_pit_stops_average=pd.read_csv('./intermediate_files/average_pit_Stop.csv',index_col=0)"
   ]
  },
  {
   "cell_type": "code",
   "execution_count": 14,
   "metadata": {},
   "outputs": [
    {
     "data": {
      "text/plain": [
       "(3581, 3)"
      ]
     },
     "execution_count": 14,
     "metadata": {},
     "output_type": "execute_result"
    }
   ],
   "source": [
    "df_pit_stops_average.shape"
   ]
  },
  {
   "cell_type": "code",
   "execution_count": 15,
   "metadata": {},
   "outputs": [
    {
     "data": {
      "text/plain": [
       "(258, 27)"
      ]
     },
     "execution_count": 15,
     "metadata": {},
     "output_type": "execute_result"
    }
   ],
   "source": [
    "df1.shape"
   ]
  },
  {
   "cell_type": "markdown",
   "metadata": {},
   "source": [
    "### Bringing in pit stop times of singapore race"
   ]
  },
  {
   "cell_type": "markdown",
   "metadata": {},
   "source": [
    "### Merge 1:Singapore race pit stop timings"
   ]
  },
  {
   "cell_type": "code",
   "execution_count": 16,
   "metadata": {},
   "outputs": [],
   "source": [
    "df_check_pit_Stops=pd.merge(df1,df_pit_stops_average,how='left',on=['raceId','driverId'])"
   ]
  },
  {
   "cell_type": "code",
   "execution_count": 17,
   "metadata": {},
   "outputs": [
    {
     "data": {
      "text/plain": [
       "Index(['raceId', 'driverId', 'D_points', 'D-position', 'D_wins', 'race_year',\n",
       "       'race_round', 'race_name', 'constructorId', 'starting_grid',\n",
       "       'Ending_position', 'points_scored', 'laps_completed', 'statusId',\n",
       "       'D_age', 'con_points', 'con_position', 'Conwins', 'round', 'name',\n",
       "       'visibility', 'temperatureHigh', 'temperatureLow', 'windSpeed',\n",
       "       'windBearing', 'humidity', 'Top_15_position', 'averagetime_at_pitstop'],\n",
       "      dtype='object')"
      ]
     },
     "execution_count": 17,
     "metadata": {},
     "output_type": "execute_result"
    }
   ],
   "source": [
    "df_check_pit_Stops.columns"
   ]
  },
  {
   "cell_type": "code",
   "execution_count": 18,
   "metadata": {},
   "outputs": [],
   "source": [
    "df_check_pit_Stops.averagetime_at_pitstop.fillna(value=0, inplace=True)"
   ]
  },
  {
   "cell_type": "code",
   "execution_count": 19,
   "metadata": {},
   "outputs": [
    {
     "data": {
      "text/plain": [
       "Index(['raceId', 'driverId', 'D_points', 'D-position', 'D_wins', 'race_year',\n",
       "       'race_round', 'race_name', 'constructorId', 'starting_grid',\n",
       "       'Ending_position', 'points_scored', 'laps_completed', 'statusId',\n",
       "       'D_age', 'con_points', 'con_position', 'Conwins', 'round', 'name',\n",
       "       'visibility', 'temperatureHigh', 'temperatureLow', 'windSpeed',\n",
       "       'windBearing', 'humidity', 'Top_15_position', 'averagetime_at_pitstop'],\n",
       "      dtype='object')"
      ]
     },
     "execution_count": 19,
     "metadata": {},
     "output_type": "execute_result"
    }
   ],
   "source": [
    "df_check_pit_Stops.columns\n"
   ]
  },
  {
   "cell_type": "code",
   "execution_count": 20,
   "metadata": {},
   "outputs": [],
   "source": [
    "df_check_pit_Stops=df_check_pit_Stops.drop(['round','name'],axis=1)"
   ]
  },
  {
   "cell_type": "code",
   "execution_count": 21,
   "metadata": {},
   "outputs": [],
   "source": [
    "df_check_pit_Stops=df_check_pit_Stops[['raceId', 'driverId', 'D_points', 'D-position', 'D_wins', 'race_year',\n",
    "       'race_round', 'race_name', 'constructorId', 'starting_grid',\n",
    "       'Ending_position', 'points_scored', 'laps_completed', 'statusId',\n",
    "       'D_age', 'con_points', 'con_position', 'Conwins',\n",
    "       'visibility', 'temperatureHigh', 'temperatureLow', 'windSpeed',\n",
    "       'windBearing', 'humidity', 'averagetime_at_pitstop','Top_15_position']]"
   ]
  },
  {
   "cell_type": "code",
   "execution_count": 22,
   "metadata": {},
   "outputs": [
    {
     "data": {
      "text/html": [
       "<div>\n",
       "<style scoped>\n",
       "    .dataframe tbody tr th:only-of-type {\n",
       "        vertical-align: middle;\n",
       "    }\n",
       "\n",
       "    .dataframe tbody tr th {\n",
       "        vertical-align: top;\n",
       "    }\n",
       "\n",
       "    .dataframe thead th {\n",
       "        text-align: right;\n",
       "    }\n",
       "</style>\n",
       "<table border=\"1\" class=\"dataframe\">\n",
       "  <thead>\n",
       "    <tr style=\"text-align: right;\">\n",
       "      <th></th>\n",
       "      <th>raceId</th>\n",
       "      <th>driverId</th>\n",
       "      <th>D_points</th>\n",
       "      <th>D-position</th>\n",
       "      <th>D_wins</th>\n",
       "      <th>race_year</th>\n",
       "      <th>race_round</th>\n",
       "      <th>race_name</th>\n",
       "      <th>constructorId</th>\n",
       "      <th>starting_grid</th>\n",
       "      <th>...</th>\n",
       "      <th>con_position</th>\n",
       "      <th>Conwins</th>\n",
       "      <th>visibility</th>\n",
       "      <th>temperatureHigh</th>\n",
       "      <th>temperatureLow</th>\n",
       "      <th>windSpeed</th>\n",
       "      <th>windBearing</th>\n",
       "      <th>humidity</th>\n",
       "      <th>averagetime_at_pitstop</th>\n",
       "      <th>Top_15_position</th>\n",
       "    </tr>\n",
       "  </thead>\n",
       "  <tbody>\n",
       "    <tr>\n",
       "      <td>0</td>\n",
       "      <td>32</td>\n",
       "      <td>1</td>\n",
       "      <td>84.0</td>\n",
       "      <td>1</td>\n",
       "      <td>1</td>\n",
       "      <td>2008</td>\n",
       "      <td>15</td>\n",
       "      <td>Singapore Grand Prix</td>\n",
       "      <td>1</td>\n",
       "      <td>2</td>\n",
       "      <td>...</td>\n",
       "      <td>1</td>\n",
       "      <td>1</td>\n",
       "      <td>6.167</td>\n",
       "      <td>90.72</td>\n",
       "      <td>77.47</td>\n",
       "      <td>5.06</td>\n",
       "      <td>152.0</td>\n",
       "      <td>0.79</td>\n",
       "      <td>0.0</td>\n",
       "      <td>1</td>\n",
       "    </tr>\n",
       "    <tr>\n",
       "      <td>1</td>\n",
       "      <td>32</td>\n",
       "      <td>5</td>\n",
       "      <td>51.0</td>\n",
       "      <td>6</td>\n",
       "      <td>1</td>\n",
       "      <td>2008</td>\n",
       "      <td>15</td>\n",
       "      <td>Singapore Grand Prix</td>\n",
       "      <td>1</td>\n",
       "      <td>5</td>\n",
       "      <td>...</td>\n",
       "      <td>1</td>\n",
       "      <td>1</td>\n",
       "      <td>6.167</td>\n",
       "      <td>90.72</td>\n",
       "      <td>77.47</td>\n",
       "      <td>5.06</td>\n",
       "      <td>152.0</td>\n",
       "      <td>0.79</td>\n",
       "      <td>0.0</td>\n",
       "      <td>1</td>\n",
       "    </tr>\n",
       "  </tbody>\n",
       "</table>\n",
       "<p>2 rows × 26 columns</p>\n",
       "</div>"
      ],
      "text/plain": [
       "   raceId  driverId  D_points  D-position  D_wins  race_year  race_round  \\\n",
       "0      32         1      84.0           1       1       2008          15   \n",
       "1      32         5      51.0           6       1       2008          15   \n",
       "\n",
       "              race_name  constructorId  starting_grid  ...  con_position  \\\n",
       "0  Singapore Grand Prix              1              2  ...             1   \n",
       "1  Singapore Grand Prix              1              5  ...             1   \n",
       "\n",
       "   Conwins  visibility  temperatureHigh  temperatureLow  windSpeed  \\\n",
       "0        1       6.167            90.72           77.47       5.06   \n",
       "1        1       6.167            90.72           77.47       5.06   \n",
       "\n",
       "   windBearing  humidity  averagetime_at_pitstop  Top_15_position  \n",
       "0        152.0      0.79                     0.0                1  \n",
       "1        152.0      0.79                     0.0                1  \n",
       "\n",
       "[2 rows x 26 columns]"
      ]
     },
     "execution_count": 22,
     "metadata": {},
     "output_type": "execute_result"
    }
   ],
   "source": [
    "df_check_pit_Stops.head(2)"
   ]
  },
  {
   "cell_type": "code",
   "execution_count": 23,
   "metadata": {},
   "outputs": [
    {
     "data": {
      "text/plain": [
       "(258, 26)"
      ]
     },
     "execution_count": 23,
     "metadata": {},
     "output_type": "execute_result"
    }
   ],
   "source": [
    "df_check_pit_Stops.shape"
   ]
  },
  {
   "cell_type": "code",
   "execution_count": 25,
   "metadata": {},
   "outputs": [],
   "source": [
    "df_check_pit_Stops.to_csv('./intermediate_files/analysis.csv')"
   ]
  },
  {
   "cell_type": "markdown",
   "metadata": {},
   "source": [
    "### Bringing in qualifying round times of singapore race"
   ]
  },
  {
   "cell_type": "code",
   "execution_count": 26,
   "metadata": {},
   "outputs": [],
   "source": [
    "df_q=pd.read_csv('./intermediate_files/converted_qualifying time.csv',index_col=0)"
   ]
  },
  {
   "cell_type": "code",
   "execution_count": 27,
   "metadata": {},
   "outputs": [
    {
     "data": {
      "text/plain": [
       "(8220, 7)"
      ]
     },
     "execution_count": 27,
     "metadata": {},
     "output_type": "execute_result"
    }
   ],
   "source": [
    "df_q.shape"
   ]
  },
  {
   "cell_type": "code",
   "execution_count": 28,
   "metadata": {},
   "outputs": [
    {
     "data": {
      "text/plain": [
       "Index(['qualifyId', 'raceId', 'driverId', 'constructorId', 'number',\n",
       "       'position', 'q3'],\n",
       "      dtype='object')"
      ]
     },
     "execution_count": 28,
     "metadata": {},
     "output_type": "execute_result"
    }
   ],
   "source": [
    "df_q.columns"
   ]
  },
  {
   "cell_type": "code",
   "execution_count": 29,
   "metadata": {},
   "outputs": [
    {
     "data": {
      "text/plain": [
       "Index(['raceId', 'driverId', 'D_points', 'D-position', 'D_wins', 'race_year',\n",
       "       'race_round', 'race_name', 'constructorId', 'starting_grid',\n",
       "       'Ending_position', 'points_scored', 'laps_completed', 'statusId',\n",
       "       'D_age', 'con_points', 'con_position', 'Conwins', 'visibility',\n",
       "       'temperatureHigh', 'temperatureLow', 'windSpeed', 'windBearing',\n",
       "       'humidity', 'averagetime_at_pitstop', 'Top_15_position'],\n",
       "      dtype='object')"
      ]
     },
     "execution_count": 29,
     "metadata": {},
     "output_type": "execute_result"
    }
   ],
   "source": [
    "df_check_pit_Stops.columns"
   ]
  },
  {
   "cell_type": "markdown",
   "metadata": {},
   "source": [
    "### Merge"
   ]
  },
  {
   "cell_type": "code",
   "execution_count": 30,
   "metadata": {},
   "outputs": [],
   "source": [
    "df_analysis=pd.merge(df_check_pit_Stops,df_q,how='inner',on=['raceId', 'driverId'])"
   ]
  },
  {
   "cell_type": "code",
   "execution_count": 31,
   "metadata": {},
   "outputs": [
    {
     "data": {
      "text/plain": [
       "Index(['raceId', 'driverId', 'D_points', 'D-position', 'D_wins', 'race_year',\n",
       "       'race_round', 'race_name', 'constructorId_x', 'starting_grid',\n",
       "       'Ending_position', 'points_scored', 'laps_completed', 'statusId',\n",
       "       'D_age', 'con_points', 'con_position', 'Conwins', 'visibility',\n",
       "       'temperatureHigh', 'temperatureLow', 'windSpeed', 'windBearing',\n",
       "       'humidity', 'averagetime_at_pitstop', 'Top_15_position', 'qualifyId',\n",
       "       'constructorId_y', 'number', 'position', 'q3'],\n",
       "      dtype='object')"
      ]
     },
     "execution_count": 31,
     "metadata": {},
     "output_type": "execute_result"
    }
   ],
   "source": [
    "df_analysis.columns"
   ]
  },
  {
   "cell_type": "code",
   "execution_count": 32,
   "metadata": {},
   "outputs": [],
   "source": [
    "df_analysis=df_analysis.drop(['qualifyId','position','Conwins','constructorId_y','race_name'],axis=1)"
   ]
  },
  {
   "cell_type": "code",
   "execution_count": 33,
   "metadata": {},
   "outputs": [
    {
     "data": {
      "text/plain": [
       "Index(['raceId', 'driverId', 'D_points', 'D-position', 'D_wins', 'race_year',\n",
       "       'race_round', 'constructorId_x', 'starting_grid', 'Ending_position',\n",
       "       'points_scored', 'laps_completed', 'statusId', 'D_age', 'con_points',\n",
       "       'con_position', 'visibility', 'temperatureHigh', 'temperatureLow',\n",
       "       'windSpeed', 'windBearing', 'humidity', 'averagetime_at_pitstop',\n",
       "       'Top_15_position', 'number', 'q3'],\n",
       "      dtype='object')"
      ]
     },
     "execution_count": 33,
     "metadata": {},
     "output_type": "execute_result"
    }
   ],
   "source": [
    "df_analysis.columns"
   ]
  },
  {
   "cell_type": "code",
   "execution_count": 34,
   "metadata": {},
   "outputs": [],
   "source": [
    "df_analysis=df_analysis[['raceId', 'driverId', 'D_points', 'D-position', 'D_wins', 'race_year',\n",
    "       'race_round', 'constructorId_x', 'starting_grid', 'Ending_position','points_scored',\n",
    "       'laps_completed', 'statusId', 'D_age', 'con_points', 'con_position',\n",
    "       'visibility', 'temperatureHigh', 'temperatureLow', 'windSpeed',\n",
    "       'windBearing', 'humidity', 'averagetime_at_pitstop', \n",
    "       'number', 'q3','Top_15_position']]"
   ]
  },
  {
   "cell_type": "code",
   "execution_count": 35,
   "metadata": {},
   "outputs": [],
   "source": [
    "df_analysis.columns=['raceId', 'driverId', 'D_points', 'D-position', 'D_wins', 'race_year',\n",
    "       'race_round', 'constructorId_x', 'starting_grid', 'Ending_position','points_scored',\n",
    "       'laps_completed', 'statusId', 'D_age', 'con_points', 'con_position',\n",
    "       'visibility', 'temperatureHigh', 'temperatureLow', 'windSpeed',\n",
    "       'windBearing', 'humidity', 'averagetime_at_pitstop', \n",
    "       'number', 'q3','is_win']"
   ]
  },
  {
   "cell_type": "code",
   "execution_count": 36,
   "metadata": {},
   "outputs": [],
   "source": [
    "pd.options.display.max_columns=26\n",
    "df_analysis.to_csv('./intermediate_files/df_analysis.csv')"
   ]
  },
  {
   "cell_type": "code",
   "execution_count": 37,
   "metadata": {},
   "outputs": [
    {
     "data": {
      "text/plain": [
       "Index(['raceId', 'driverId', 'D_points', 'D-position', 'D_wins', 'race_year',\n",
       "       'race_round', 'constructorId_x', 'starting_grid', 'Ending_position',\n",
       "       'points_scored', 'laps_completed', 'statusId', 'D_age', 'con_points',\n",
       "       'con_position', 'visibility', 'temperatureHigh', 'temperatureLow',\n",
       "       'windSpeed', 'windBearing', 'humidity', 'averagetime_at_pitstop',\n",
       "       'number', 'q3', 'is_win'],\n",
       "      dtype='object')"
      ]
     },
     "execution_count": 37,
     "metadata": {},
     "output_type": "execute_result"
    }
   ],
   "source": [
    "df_analysis.columns"
   ]
  },
  {
   "cell_type": "code",
   "execution_count": 38,
   "metadata": {},
   "outputs": [],
   "source": [
    "df_analysis=df_analysis[['raceId', 'driverId','D_points','D_wins', 'race_year',\n",
    "       'constructorId_x', 'starting_grid', 'Ending_position',\n",
    "        'laps_completed', 'statusId', 'D_age', 'con_points',\n",
    "       'con_position', 'visibility', 'temperatureHigh', 'temperatureLow',\n",
    "       'windSpeed', 'windBearing', 'humidity', 'averagetime_at_pitstop',\n",
    "       'number', 'q3', 'is_win']]"
   ]
  },
  {
   "cell_type": "code",
   "execution_count": 57,
   "metadata": {},
   "outputs": [],
   "source": [
    "df_analysis.to_csv('./intermediate_files/df_analysis.csv')"
   ]
  },
  {
   "cell_type": "markdown",
   "metadata": {},
   "source": [
    "## Re-start here"
   ]
  },
  {
   "cell_type": "markdown",
   "metadata": {},
   "source": [
    "### Calculation variable influential factor(VIF) for F1 race"
   ]
  },
  {
   "cell_type": "code",
   "execution_count": 39,
   "metadata": {},
   "outputs": [],
   "source": [
    "df_analysis_VIF=df_analysis[['raceId', 'driverId','D_points','D_wins',\n",
    "       'constructorId_x', 'starting_grid', 'Ending_position',\n",
    "        'laps_completed', 'statusId', 'D_age', 'con_points',\n",
    "       'con_position', 'visibility', 'temperatureHigh', 'temperatureLow',\n",
    "       'windSpeed', 'windBearing', 'humidity', 'averagetime_at_pitstop',\n",
    "       'number', 'q3', 'is_win']]"
   ]
  },
  {
   "cell_type": "code",
   "execution_count": 40,
   "metadata": {},
   "outputs": [],
   "source": [
    "from statsmodels.stats.outliers_influence import variance_inflation_factor"
   ]
  },
  {
   "cell_type": "code",
   "execution_count": 41,
   "metadata": {},
   "outputs": [
    {
     "data": {
      "text/plain": [
       "race_year                 46792.826945\n",
       "temperatureHigh           12426.440444\n",
       "q3                         7435.065082\n",
       "temperatureLow             5232.697548\n",
       "humidity                   2568.742161\n",
       "visibility                  108.024638\n",
       "D_age                        85.841512\n",
       "raceId                       53.377412\n",
       "laps_completed               46.129828\n",
       "windBearing                  34.622891\n",
       "windSpeed                    29.242082\n",
       "averagetime_at_pitstop       28.676007\n",
       "con_points                   27.434383\n",
       "D_points                     27.429007\n",
       "con_position                 27.270459\n",
       "Ending_position              17.682920\n",
       "starting_grid                17.630604\n",
       "driverId                      6.055914\n",
       "D_wins                        3.640916\n",
       "number                        2.622182\n",
       "constructorId_x               2.323873\n",
       "statusId                      1.617651\n",
       "dtype: float64"
      ]
     },
     "execution_count": 41,
     "metadata": {},
     "output_type": "execute_result"
    }
   ],
   "source": [
    "X = df_analysis.iloc[:, :-1]\n",
    "old_X = X.copy()\n",
    "\n",
    "VIF_list = []\n",
    "for i in range(X.shape[1]):\n",
    "    VIF_list.append(variance_inflation_factor(X.values, i))\n",
    "\n",
    "VIF_series = pd.Series(VIF_list, index=X.columns)\n",
    "VIF_series.sort_values(ascending=False)"
   ]
  },
  {
   "cell_type": "code",
   "execution_count": 42,
   "metadata": {},
   "outputs": [],
   "source": [
    "df_sorted=VIF_series.sort_values(ascending=False)"
   ]
  },
  {
   "cell_type": "code",
   "execution_count": 43,
   "metadata": {},
   "outputs": [],
   "source": [
    "df = pd.DataFrame({'variables':VIF_series.index, 'VIF':VIF_series.values})"
   ]
  },
  {
   "cell_type": "code",
   "execution_count": 44,
   "metadata": {},
   "outputs": [
    {
     "data": {
      "text/plain": [
       "race_year          46792.826945\n",
       "temperatureHigh    12426.440444\n",
       "q3                  7435.065082\n",
       "temperatureLow      5232.697548\n",
       "humidity            2568.742161\n",
       "dtype: float64"
      ]
     },
     "execution_count": 44,
     "metadata": {},
     "output_type": "execute_result"
    }
   ],
   "source": [
    "df_sorted.head()"
   ]
  },
  {
   "cell_type": "code",
   "execution_count": 45,
   "metadata": {},
   "outputs": [
    {
     "data": {
      "text/plain": [
       "<matplotlib.axes._subplots.AxesSubplot at 0x1a1989ae10>"
      ]
     },
     "execution_count": 45,
     "metadata": {},
     "output_type": "execute_result"
    },
    {
     "data": {
      "image/png": "[encoded data removed]",
      "text/plain": [
       "<Figure size 432x288 with 1 Axes>"
      ]
     },
     "metadata": {
      "needs_background": "light"
     },
     "output_type": "display_data"
    }
   ],
   "source": [
    "df.plot(x=\"variables\", y=[\"VIF\"], kind=\"barh\")"
   ]
  },
  {
   "cell_type": "markdown",
   "metadata": {},
   "source": [
    "**We have some very high VIFs here, but I do want to run the model with these factors and see if they cause any co-linearity related problems (large p-values, large standard errors)**"
   ]
  },
  {
   "cell_type": "code",
   "execution_count": 46,
   "metadata": {},
   "outputs": [],
   "source": [
    "df_coefficients=df_analysis.corrwith(df_analysis['is_win'])"
   ]
  },
  {
   "cell_type": "code",
   "execution_count": 47,
   "metadata": {},
   "outputs": [],
   "source": [
    "df_coefficients=pd.DataFrame(df_coefficients,columns=['is_win'])"
   ]
  },
  {
   "cell_type": "code",
   "execution_count": 48,
   "metadata": {},
   "outputs": [
    {
     "data": {
      "text/html": [
       "<div>\n",
       "<style scoped>\n",
       "    .dataframe tbody tr th:only-of-type {\n",
       "        vertical-align: middle;\n",
       "    }\n",
       "\n",
       "    .dataframe tbody tr th {\n",
       "        vertical-align: top;\n",
       "    }\n",
       "\n",
       "    .dataframe thead th {\n",
       "        text-align: right;\n",
       "    }\n",
       "</style>\n",
       "<table border=\"1\" class=\"dataframe\">\n",
       "  <thead>\n",
       "    <tr style=\"text-align: right;\">\n",
       "      <th></th>\n",
       "      <th>index</th>\n",
       "      <th>is_win</th>\n",
       "    </tr>\n",
       "  </thead>\n",
       "  <tbody>\n",
       "    <tr>\n",
       "      <td>0</td>\n",
       "      <td>raceId</td>\n",
       "      <td>-0.008878</td>\n",
       "    </tr>\n",
       "    <tr>\n",
       "      <td>1</td>\n",
       "      <td>driverId</td>\n",
       "      <td>-0.071991</td>\n",
       "    </tr>\n",
       "    <tr>\n",
       "      <td>2</td>\n",
       "      <td>D_points</td>\n",
       "      <td>0.392740</td>\n",
       "    </tr>\n",
       "    <tr>\n",
       "      <td>3</td>\n",
       "      <td>D_wins</td>\n",
       "      <td>0.297686</td>\n",
       "    </tr>\n",
       "    <tr>\n",
       "      <td>4</td>\n",
       "      <td>race_year</td>\n",
       "      <td>0.036566</td>\n",
       "    </tr>\n",
       "    <tr>\n",
       "      <td>5</td>\n",
       "      <td>constructorId_x</td>\n",
       "      <td>-0.293143</td>\n",
       "    </tr>\n",
       "    <tr>\n",
       "      <td>6</td>\n",
       "      <td>starting_grid</td>\n",
       "      <td>-0.460172</td>\n",
       "    </tr>\n",
       "    <tr>\n",
       "      <td>7</td>\n",
       "      <td>Ending_position</td>\n",
       "      <td>-0.858222</td>\n",
       "    </tr>\n",
       "    <tr>\n",
       "      <td>8</td>\n",
       "      <td>laps_completed</td>\n",
       "      <td>0.531555</td>\n",
       "    </tr>\n",
       "    <tr>\n",
       "      <td>9</td>\n",
       "      <td>statusId</td>\n",
       "      <td>-0.355055</td>\n",
       "    </tr>\n",
       "    <tr>\n",
       "      <td>10</td>\n",
       "      <td>D_age</td>\n",
       "      <td>-0.055969</td>\n",
       "    </tr>\n",
       "    <tr>\n",
       "      <td>11</td>\n",
       "      <td>con_points</td>\n",
       "      <td>0.386489</td>\n",
       "    </tr>\n",
       "    <tr>\n",
       "      <td>12</td>\n",
       "      <td>con_position</td>\n",
       "      <td>-0.500794</td>\n",
       "    </tr>\n",
       "    <tr>\n",
       "      <td>13</td>\n",
       "      <td>visibility</td>\n",
       "      <td>0.037942</td>\n",
       "    </tr>\n",
       "    <tr>\n",
       "      <td>14</td>\n",
       "      <td>temperatureHigh</td>\n",
       "      <td>-0.024046</td>\n",
       "    </tr>\n",
       "    <tr>\n",
       "      <td>15</td>\n",
       "      <td>temperatureLow</td>\n",
       "      <td>0.047687</td>\n",
       "    </tr>\n",
       "    <tr>\n",
       "      <td>16</td>\n",
       "      <td>windSpeed</td>\n",
       "      <td>0.060348</td>\n",
       "    </tr>\n",
       "    <tr>\n",
       "      <td>17</td>\n",
       "      <td>windBearing</td>\n",
       "      <td>-0.056312</td>\n",
       "    </tr>\n",
       "    <tr>\n",
       "      <td>18</td>\n",
       "      <td>humidity</td>\n",
       "      <td>0.057664</td>\n",
       "    </tr>\n",
       "    <tr>\n",
       "      <td>19</td>\n",
       "      <td>averagetime_at_pitstop</td>\n",
       "      <td>0.033917</td>\n",
       "    </tr>\n",
       "    <tr>\n",
       "      <td>20</td>\n",
       "      <td>number</td>\n",
       "      <td>-0.079710</td>\n",
       "    </tr>\n",
       "    <tr>\n",
       "      <td>21</td>\n",
       "      <td>q3</td>\n",
       "      <td>-0.266915</td>\n",
       "    </tr>\n",
       "    <tr>\n",
       "      <td>22</td>\n",
       "      <td>is_win</td>\n",
       "      <td>1.000000</td>\n",
       "    </tr>\n",
       "  </tbody>\n",
       "</table>\n",
       "</div>"
      ],
      "text/plain": [
       "                     index    is_win\n",
       "0                   raceId -0.008878\n",
       "1                 driverId -0.071991\n",
       "2                 D_points  0.392740\n",
       "3                   D_wins  0.297686\n",
       "4                race_year  0.036566\n",
       "5          constructorId_x -0.293143\n",
       "6            starting_grid -0.460172\n",
       "7          Ending_position -0.858222\n",
       "8           laps_completed  0.531555\n",
       "9                 statusId -0.355055\n",
       "10                   D_age -0.055969\n",
       "11              con_points  0.386489\n",
       "12            con_position -0.500794\n",
       "13              visibility  0.037942\n",
       "14         temperatureHigh -0.024046\n",
       "15          temperatureLow  0.047687\n",
       "16               windSpeed  0.060348\n",
       "17             windBearing -0.056312\n",
       "18                humidity  0.057664\n",
       "19  averagetime_at_pitstop  0.033917\n",
       "20                  number -0.079710\n",
       "21                      q3 -0.266915\n",
       "22                  is_win  1.000000"
      ]
     },
     "execution_count": 48,
     "metadata": {},
     "output_type": "execute_result"
    }
   ],
   "source": [
    "df_coefficients.reset_index()"
   ]
  },
  {
   "cell_type": "code",
   "execution_count": 49,
   "metadata": {},
   "outputs": [],
   "source": [
    "df_test = pd.DataFrame({'variables':df_coefficients.index, 'Is_win':df_coefficients.is_win})"
   ]
  },
  {
   "cell_type": "code",
   "execution_count": 51,
   "metadata": {},
   "outputs": [
    {
     "data": {
      "text/plain": [
       "<matplotlib.axes._subplots.AxesSubplot at 0x1a19cb89d0>"
      ]
     },
     "execution_count": 51,
     "metadata": {},
     "output_type": "execute_result"
    },
    {
     "data": {
      "image/png": "[encoded data removed]",
      "text/plain": [
       "<Figure size 432x288 with 1 Axes>"
      ]
     },
     "metadata": {
      "needs_background": "light"
     },
     "output_type": "display_data"
    }
   ],
   "source": [
    "df_test.plot(x=\"variables\", y=\"Is_win\", kind=\"barh\")\n"
   ]
  },
  {
   "cell_type": "code",
   "execution_count": 52,
   "metadata": {},
   "outputs": [
    {
     "data": {
      "image/png": "[encoded data removed]",
      "text/plain": [
       "<Figure size 360x288 with 1 Axes>"
      ]
     },
     "metadata": {
      "needs_background": "light"
     },
     "output_type": "display_data"
    }
   ],
   "source": [
    "bar_names = df_test['variables']\n",
    "bar_heights = df_test['Is_win']\n",
    "\n",
    "bar_colors = np.where(bar_heights > 0.0, \"blue\", \"red\")\n",
    "\n",
    "plt.figure(figsize=(5.0, 4.0))\n",
    "plt.barh(bar_names, bar_heights, color=bar_colors)\n",
    "plt.title(\"Correlation coefficients in singapore F1 season\")\n",
    "plt.savefig('Correlation_coefficients_in_singapore_F1_season.png');\n",
    "plt.show()"
   ]
  },
  {
   "cell_type": "code",
   "execution_count": 53,
   "metadata": {},
   "outputs": [],
   "source": [
    "X = df_analysis.iloc[:,:-1]\n",
    "y = df_analysis.iloc[:,-1]"
   ]
  },
  {
   "cell_type": "code",
   "execution_count": 54,
   "metadata": {},
   "outputs": [],
   "source": [
    "p_value_list=[]\n",
    "\n",
    "for i in X.columns:\n",
    "    \n",
    "    p_value=stats.pearsonr(X[i],y)\n",
    "    \n",
    "    p_value_list.append(p_value)"
   ]
  },
  {
   "cell_type": "code",
   "execution_count": 55,
   "metadata": {},
   "outputs": [],
   "source": [
    "df_p=pd.DataFrame(p_value_list, columns = ['correlation coefficient','p_value'])"
   ]
  },
  {
   "cell_type": "code",
   "execution_count": 56,
   "metadata": {},
   "outputs": [
    {
     "data": {
      "text/html": [
       "<div>\n",
       "<style scoped>\n",
       "    .dataframe tbody tr th:only-of-type {\n",
       "        vertical-align: middle;\n",
       "    }\n",
       "\n",
       "    .dataframe tbody tr th {\n",
       "        vertical-align: top;\n",
       "    }\n",
       "\n",
       "    .dataframe thead th {\n",
       "        text-align: right;\n",
       "    }\n",
       "</style>\n",
       "<table border=\"1\" class=\"dataframe\">\n",
       "  <thead>\n",
       "    <tr style=\"text-align: right;\">\n",
       "      <th></th>\n",
       "      <th>correlation coefficient</th>\n",
       "      <th>p_value</th>\n",
       "    </tr>\n",
       "  </thead>\n",
       "  <tbody>\n",
       "    <tr>\n",
       "      <td>0</td>\n",
       "      <td>-0.008878</td>\n",
       "      <td>8.878074e-01</td>\n",
       "    </tr>\n",
       "    <tr>\n",
       "      <td>1</td>\n",
       "      <td>-0.071991</td>\n",
       "      <td>2.520231e-01</td>\n",
       "    </tr>\n",
       "    <tr>\n",
       "      <td>2</td>\n",
       "      <td>0.392740</td>\n",
       "      <td>7.823313e-11</td>\n",
       "    </tr>\n",
       "    <tr>\n",
       "      <td>3</td>\n",
       "      <td>0.297686</td>\n",
       "      <td>1.295196e-06</td>\n",
       "    </tr>\n",
       "    <tr>\n",
       "      <td>4</td>\n",
       "      <td>0.036566</td>\n",
       "      <td>5.610844e-01</td>\n",
       "    </tr>\n",
       "    <tr>\n",
       "      <td>5</td>\n",
       "      <td>-0.293143</td>\n",
       "      <td>1.905723e-06</td>\n",
       "    </tr>\n",
       "    <tr>\n",
       "      <td>6</td>\n",
       "      <td>-0.460172</td>\n",
       "      <td>9.085078e-15</td>\n",
       "    </tr>\n",
       "    <tr>\n",
       "      <td>7</td>\n",
       "      <td>-0.858222</td>\n",
       "      <td>3.056591e-75</td>\n",
       "    </tr>\n",
       "    <tr>\n",
       "      <td>8</td>\n",
       "      <td>0.531555</td>\n",
       "      <td>5.342963e-20</td>\n",
       "    </tr>\n",
       "    <tr>\n",
       "      <td>9</td>\n",
       "      <td>-0.355055</td>\n",
       "      <td>5.441311e-09</td>\n",
       "    </tr>\n",
       "    <tr>\n",
       "      <td>10</td>\n",
       "      <td>-0.055969</td>\n",
       "      <td>3.734356e-01</td>\n",
       "    </tr>\n",
       "    <tr>\n",
       "      <td>11</td>\n",
       "      <td>0.386489</td>\n",
       "      <td>1.642619e-10</td>\n",
       "    </tr>\n",
       "    <tr>\n",
       "      <td>12</td>\n",
       "      <td>-0.500794</td>\n",
       "      <td>1.356252e-17</td>\n",
       "    </tr>\n",
       "    <tr>\n",
       "      <td>13</td>\n",
       "      <td>0.037942</td>\n",
       "      <td>5.464204e-01</td>\n",
       "    </tr>\n",
       "    <tr>\n",
       "      <td>14</td>\n",
       "      <td>-0.024046</td>\n",
       "      <td>7.023481e-01</td>\n",
       "    </tr>\n",
       "    <tr>\n",
       "      <td>15</td>\n",
       "      <td>0.047687</td>\n",
       "      <td>4.483402e-01</td>\n",
       "    </tr>\n",
       "    <tr>\n",
       "      <td>16</td>\n",
       "      <td>0.060348</td>\n",
       "      <td>3.371426e-01</td>\n",
       "    </tr>\n",
       "    <tr>\n",
       "      <td>17</td>\n",
       "      <td>-0.056312</td>\n",
       "      <td>3.705037e-01</td>\n",
       "    </tr>\n",
       "    <tr>\n",
       "      <td>18</td>\n",
       "      <td>0.057664</td>\n",
       "      <td>3.591085e-01</td>\n",
       "    </tr>\n",
       "    <tr>\n",
       "      <td>19</td>\n",
       "      <td>0.033917</td>\n",
       "      <td>5.898192e-01</td>\n",
       "    </tr>\n",
       "    <tr>\n",
       "      <td>20</td>\n",
       "      <td>-0.079710</td>\n",
       "      <td>2.045698e-01</td>\n",
       "    </tr>\n",
       "    <tr>\n",
       "      <td>21</td>\n",
       "      <td>-0.266915</td>\n",
       "      <td>1.560369e-05</td>\n",
       "    </tr>\n",
       "  </tbody>\n",
       "</table>\n",
       "</div>"
      ],
      "text/plain": [
       "    correlation coefficient       p_value\n",
       "0                 -0.008878  8.878074e-01\n",
       "1                 -0.071991  2.520231e-01\n",
       "2                  0.392740  7.823313e-11\n",
       "3                  0.297686  1.295196e-06\n",
       "4                  0.036566  5.610844e-01\n",
       "5                 -0.293143  1.905723e-06\n",
       "6                 -0.460172  9.085078e-15\n",
       "7                 -0.858222  3.056591e-75\n",
       "8                  0.531555  5.342963e-20\n",
       "9                 -0.355055  5.441311e-09\n",
       "10                -0.055969  3.734356e-01\n",
       "11                 0.386489  1.642619e-10\n",
       "12                -0.500794  1.356252e-17\n",
       "13                 0.037942  5.464204e-01\n",
       "14                -0.024046  7.023481e-01\n",
       "15                 0.047687  4.483402e-01\n",
       "16                 0.060348  3.371426e-01\n",
       "17                -0.056312  3.705037e-01\n",
       "18                 0.057664  3.591085e-01\n",
       "19                 0.033917  5.898192e-01\n",
       "20                -0.079710  2.045698e-01\n",
       "21                -0.266915  1.560369e-05"
      ]
     },
     "execution_count": 56,
     "metadata": {},
     "output_type": "execute_result"
    }
   ],
   "source": [
    "df_p"
   ]
  },
  {
   "cell_type": "markdown",
   "metadata": {},
   "source": [
    "### Analysis on Practice time for Singapore Grand Prix for 2019"
   ]
  },
  {
   "cell_type": "code",
   "execution_count": 58,
   "metadata": {},
   "outputs": [],
   "source": [
    "import numpy as np\n",
    "import pandas as pd"
   ]
  },
  {
   "cell_type": "markdown",
   "metadata": {},
   "source": [
    "### These 3 files have been created using web scaper from F1 autosport web site"
   ]
  },
  {
   "cell_type": "code",
   "execution_count": 60,
   "metadata": {},
   "outputs": [],
   "source": [
    "df_p1 = pd.read_csv('./singapore_practice_times_2019/singapore_practice_1.csv',index_col=0)"
   ]
  },
  {
   "cell_type": "code",
   "execution_count": 61,
   "metadata": {},
   "outputs": [],
   "source": [
    "df_p2=pd.read_csv('./singapore_practice_times_2019/singapore_practice_2.csv',index_col=0)"
   ]
  },
  {
   "cell_type": "code",
   "execution_count": 62,
   "metadata": {},
   "outputs": [],
   "source": [
    "df_p3=pd.read_csv('./singapore_practice_times_2019/singapore_practice_3.csv',index_col=0)"
   ]
  },
  {
   "cell_type": "code",
   "execution_count": 63,
   "metadata": {},
   "outputs": [
    {
     "data": {
      "text/html": [
       "<div>\n",
       "<style scoped>\n",
       "    .dataframe tbody tr th:only-of-type {\n",
       "        vertical-align: middle;\n",
       "    }\n",
       "\n",
       "    .dataframe tbody tr th {\n",
       "        vertical-align: top;\n",
       "    }\n",
       "\n",
       "    .dataframe thead th {\n",
       "        text-align: right;\n",
       "    }\n",
       "</style>\n",
       "<table border=\"1\" class=\"dataframe\">\n",
       "  <thead>\n",
       "    <tr style=\"text-align: right;\">\n",
       "      <th></th>\n",
       "      <th>No</th>\n",
       "      <th>Driver</th>\n",
       "      <th>Car</th>\n",
       "      <th>Time</th>\n",
       "      <th>Gap</th>\n",
       "      <th>Laps</th>\n",
       "    </tr>\n",
       "    <tr>\n",
       "      <th>Pos</th>\n",
       "      <th></th>\n",
       "      <th></th>\n",
       "      <th></th>\n",
       "      <th></th>\n",
       "      <th></th>\n",
       "      <th></th>\n",
       "    </tr>\n",
       "  </thead>\n",
       "  <tbody>\n",
       "    <tr>\n",
       "      <td>1</td>\n",
       "      <td>44</td>\n",
       "      <td>LewisHamilton</td>\n",
       "      <td>Mercedes</td>\n",
       "      <td>01:38.8</td>\n",
       "      <td>NaN</td>\n",
       "      <td>29</td>\n",
       "    </tr>\n",
       "    <tr>\n",
       "      <td>2</td>\n",
       "      <td>33</td>\n",
       "      <td>MaxVerstappen</td>\n",
       "      <td>Red Bull Racing Honda</td>\n",
       "      <td>01:39.0</td>\n",
       "      <td>+0.184s</td>\n",
       "      <td>29</td>\n",
       "    </tr>\n",
       "    <tr>\n",
       "      <td>3</td>\n",
       "      <td>5</td>\n",
       "      <td>SebastianVettel</td>\n",
       "      <td>Ferrari</td>\n",
       "      <td>01:39.6</td>\n",
       "      <td>+0.818s</td>\n",
       "      <td>31</td>\n",
       "    </tr>\n",
       "    <tr>\n",
       "      <td>4</td>\n",
       "      <td>77</td>\n",
       "      <td>ValtteriBottas</td>\n",
       "      <td>Mercedes</td>\n",
       "      <td>01:39.9</td>\n",
       "      <td>+1.121s</td>\n",
       "      <td>30</td>\n",
       "    </tr>\n",
       "    <tr>\n",
       "      <td>5</td>\n",
       "      <td>23</td>\n",
       "      <td>AlexanderAlbon</td>\n",
       "      <td>Red Bull Racing Honda</td>\n",
       "      <td>01:39.9</td>\n",
       "      <td>+1.170s</td>\n",
       "      <td>30</td>\n",
       "    </tr>\n",
       "  </tbody>\n",
       "</table>\n",
       "</div>"
      ],
      "text/plain": [
       "     No           Driver                    Car     Time      Gap  Laps\n",
       "Pos                                                                    \n",
       "1    44    LewisHamilton               Mercedes  01:38.8      NaN    29\n",
       "2    33    MaxVerstappen  Red Bull Racing Honda  01:39.0  +0.184s    29\n",
       "3     5  SebastianVettel                Ferrari  01:39.6  +0.818s    31\n",
       "4    77   ValtteriBottas               Mercedes  01:39.9  +1.121s    30\n",
       "5    23   AlexanderAlbon  Red Bull Racing Honda  01:39.9  +1.170s    30"
      ]
     },
     "execution_count": 63,
     "metadata": {},
     "output_type": "execute_result"
    }
   ],
   "source": [
    "df_p2.head()"
   ]
  },
  {
   "cell_type": "code",
   "execution_count": 64,
   "metadata": {},
   "outputs": [
    {
     "data": {
      "text/html": [
       "<div>\n",
       "<style scoped>\n",
       "    .dataframe tbody tr th:only-of-type {\n",
       "        vertical-align: middle;\n",
       "    }\n",
       "\n",
       "    .dataframe tbody tr th {\n",
       "        vertical-align: top;\n",
       "    }\n",
       "\n",
       "    .dataframe thead th {\n",
       "        text-align: right;\n",
       "    }\n",
       "</style>\n",
       "<table border=\"1\" class=\"dataframe\">\n",
       "  <thead>\n",
       "    <tr style=\"text-align: right;\">\n",
       "      <th></th>\n",
       "      <th>No</th>\n",
       "      <th>Driver</th>\n",
       "      <th>Car</th>\n",
       "      <th>Time</th>\n",
       "      <th>Gap</th>\n",
       "      <th>Laps</th>\n",
       "    </tr>\n",
       "    <tr>\n",
       "      <th>Pos</th>\n",
       "      <th></th>\n",
       "      <th></th>\n",
       "      <th></th>\n",
       "      <th></th>\n",
       "      <th></th>\n",
       "      <th></th>\n",
       "    </tr>\n",
       "  </thead>\n",
       "  <tbody>\n",
       "    <tr>\n",
       "      <td>1</td>\n",
       "      <td>16</td>\n",
       "      <td>CharlesLeclerc</td>\n",
       "      <td>Ferrari</td>\n",
       "      <td>01:38.2</td>\n",
       "      <td>0</td>\n",
       "      <td>15</td>\n",
       "    </tr>\n",
       "    <tr>\n",
       "      <td>2</td>\n",
       "      <td>44</td>\n",
       "      <td>LewisHamilton</td>\n",
       "      <td>Mercedes</td>\n",
       "      <td>01:38.4</td>\n",
       "      <td>+0.207s</td>\n",
       "      <td>15</td>\n",
       "    </tr>\n",
       "    <tr>\n",
       "      <td>3</td>\n",
       "      <td>5</td>\n",
       "      <td>SebastianVettel</td>\n",
       "      <td>Ferrari</td>\n",
       "      <td>01:38.8</td>\n",
       "      <td>+0.619s</td>\n",
       "      <td>13</td>\n",
       "    </tr>\n",
       "    <tr>\n",
       "      <td>4</td>\n",
       "      <td>77</td>\n",
       "      <td>ValtteriBottas</td>\n",
       "      <td>Mercedes</td>\n",
       "      <td>01:38.9</td>\n",
       "      <td>+0.693s</td>\n",
       "      <td>16</td>\n",
       "    </tr>\n",
       "    <tr>\n",
       "      <td>5</td>\n",
       "      <td>23</td>\n",
       "      <td>AlexanderAlbon</td>\n",
       "      <td>Red Bull Racing Honda</td>\n",
       "      <td>01:39.3</td>\n",
       "      <td>+1.066s</td>\n",
       "      <td>14</td>\n",
       "    </tr>\n",
       "  </tbody>\n",
       "</table>\n",
       "</div>"
      ],
      "text/plain": [
       "     No           Driver                    Car     Time      Gap  Laps\n",
       "Pos                                                                    \n",
       "1    16   CharlesLeclerc                Ferrari  01:38.2        0    15\n",
       "2    44    LewisHamilton               Mercedes  01:38.4  +0.207s    15\n",
       "3     5  SebastianVettel                Ferrari  01:38.8  +0.619s    13\n",
       "4    77   ValtteriBottas               Mercedes  01:38.9  +0.693s    16\n",
       "5    23   AlexanderAlbon  Red Bull Racing Honda  01:39.3  +1.066s    14"
      ]
     },
     "execution_count": 64,
     "metadata": {},
     "output_type": "execute_result"
    }
   ],
   "source": [
    "df_p3.head()"
   ]
  },
  {
   "cell_type": "code",
   "execution_count": 65,
   "metadata": {},
   "outputs": [],
   "source": [
    "df_p1.Gap.fillna(value=0, inplace=True)\n",
    "df_p2.Gap.fillna(value=0, inplace=True)\n",
    "df_p3.Gap.fillna(value=0, inplace=True)"
   ]
  },
  {
   "cell_type": "code",
   "execution_count": 66,
   "metadata": {},
   "outputs": [
    {
     "data": {
      "text/html": [
       "<div>\n",
       "<style scoped>\n",
       "    .dataframe tbody tr th:only-of-type {\n",
       "        vertical-align: middle;\n",
       "    }\n",
       "\n",
       "    .dataframe tbody tr th {\n",
       "        vertical-align: top;\n",
       "    }\n",
       "\n",
       "    .dataframe thead th {\n",
       "        text-align: right;\n",
       "    }\n",
       "</style>\n",
       "<table border=\"1\" class=\"dataframe\">\n",
       "  <thead>\n",
       "    <tr style=\"text-align: right;\">\n",
       "      <th></th>\n",
       "      <th>No</th>\n",
       "      <th>Driver</th>\n",
       "      <th>Car</th>\n",
       "      <th>Time</th>\n",
       "      <th>Gap</th>\n",
       "      <th>Laps</th>\n",
       "    </tr>\n",
       "    <tr>\n",
       "      <th>Pos</th>\n",
       "      <th></th>\n",
       "      <th></th>\n",
       "      <th></th>\n",
       "      <th></th>\n",
       "      <th></th>\n",
       "      <th></th>\n",
       "    </tr>\n",
       "  </thead>\n",
       "  <tbody>\n",
       "    <tr>\n",
       "      <td>1</td>\n",
       "      <td>33</td>\n",
       "      <td>MaxVerstappen</td>\n",
       "      <td>Red Bull Racing Honda</td>\n",
       "      <td>01:40.3</td>\n",
       "      <td>0</td>\n",
       "      <td>22</td>\n",
       "    </tr>\n",
       "    <tr>\n",
       "      <td>2</td>\n",
       "      <td>5</td>\n",
       "      <td>SebastianVettel</td>\n",
       "      <td>Ferrari</td>\n",
       "      <td>01:40.4</td>\n",
       "      <td>+0.167s</td>\n",
       "      <td>23</td>\n",
       "    </tr>\n",
       "    <tr>\n",
       "      <td>3</td>\n",
       "      <td>44</td>\n",
       "      <td>LewisHamilton</td>\n",
       "      <td>Mercedes</td>\n",
       "      <td>01:40.9</td>\n",
       "      <td>+0.666s</td>\n",
       "      <td>26</td>\n",
       "    </tr>\n",
       "    <tr>\n",
       "      <td>4</td>\n",
       "      <td>77</td>\n",
       "      <td>ValtteriBottas</td>\n",
       "      <td>Mercedes</td>\n",
       "      <td>01:41.3</td>\n",
       "      <td>+1.077s</td>\n",
       "      <td>14</td>\n",
       "    </tr>\n",
       "    <tr>\n",
       "      <td>5</td>\n",
       "      <td>23</td>\n",
       "      <td>AlexanderAlbon</td>\n",
       "      <td>Red Bull Racing Honda</td>\n",
       "      <td>01:41.5</td>\n",
       "      <td>+1.208s</td>\n",
       "      <td>24</td>\n",
       "    </tr>\n",
       "  </tbody>\n",
       "</table>\n",
       "</div>"
      ],
      "text/plain": [
       "     No           Driver                    Car     Time      Gap  Laps\n",
       "Pos                                                                    \n",
       "1    33    MaxVerstappen  Red Bull Racing Honda  01:40.3        0    22\n",
       "2     5  SebastianVettel                Ferrari  01:40.4  +0.167s    23\n",
       "3    44    LewisHamilton               Mercedes  01:40.9  +0.666s    26\n",
       "4    77   ValtteriBottas               Mercedes  01:41.3  +1.077s    14\n",
       "5    23   AlexanderAlbon  Red Bull Racing Honda  01:41.5  +1.208s    24"
      ]
     },
     "execution_count": 66,
     "metadata": {},
     "output_type": "execute_result"
    }
   ],
   "source": [
    "df_p1.head()"
   ]
  },
  {
   "cell_type": "code",
   "execution_count": 67,
   "metadata": {},
   "outputs": [
    {
     "data": {
      "text/html": [
       "<div>\n",
       "<style scoped>\n",
       "    .dataframe tbody tr th:only-of-type {\n",
       "        vertical-align: middle;\n",
       "    }\n",
       "\n",
       "    .dataframe tbody tr th {\n",
       "        vertical-align: top;\n",
       "    }\n",
       "\n",
       "    .dataframe thead th {\n",
       "        text-align: right;\n",
       "    }\n",
       "</style>\n",
       "<table border=\"1\" class=\"dataframe\">\n",
       "  <thead>\n",
       "    <tr style=\"text-align: right;\">\n",
       "      <th></th>\n",
       "      <th>No</th>\n",
       "      <th>Driver</th>\n",
       "      <th>Car</th>\n",
       "      <th>Time</th>\n",
       "      <th>Gap</th>\n",
       "      <th>Laps</th>\n",
       "    </tr>\n",
       "    <tr>\n",
       "      <th>Pos</th>\n",
       "      <th></th>\n",
       "      <th></th>\n",
       "      <th></th>\n",
       "      <th></th>\n",
       "      <th></th>\n",
       "      <th></th>\n",
       "    </tr>\n",
       "  </thead>\n",
       "  <tbody>\n",
       "    <tr>\n",
       "      <td>1</td>\n",
       "      <td>44</td>\n",
       "      <td>LewisHamilton</td>\n",
       "      <td>Mercedes</td>\n",
       "      <td>01:38.8</td>\n",
       "      <td>0</td>\n",
       "      <td>29</td>\n",
       "    </tr>\n",
       "    <tr>\n",
       "      <td>2</td>\n",
       "      <td>33</td>\n",
       "      <td>MaxVerstappen</td>\n",
       "      <td>Red Bull Racing Honda</td>\n",
       "      <td>01:39.0</td>\n",
       "      <td>+0.184s</td>\n",
       "      <td>29</td>\n",
       "    </tr>\n",
       "    <tr>\n",
       "      <td>3</td>\n",
       "      <td>5</td>\n",
       "      <td>SebastianVettel</td>\n",
       "      <td>Ferrari</td>\n",
       "      <td>01:39.6</td>\n",
       "      <td>+0.818s</td>\n",
       "      <td>31</td>\n",
       "    </tr>\n",
       "    <tr>\n",
       "      <td>4</td>\n",
       "      <td>77</td>\n",
       "      <td>ValtteriBottas</td>\n",
       "      <td>Mercedes</td>\n",
       "      <td>01:39.9</td>\n",
       "      <td>+1.121s</td>\n",
       "      <td>30</td>\n",
       "    </tr>\n",
       "    <tr>\n",
       "      <td>5</td>\n",
       "      <td>23</td>\n",
       "      <td>AlexanderAlbon</td>\n",
       "      <td>Red Bull Racing Honda</td>\n",
       "      <td>01:39.9</td>\n",
       "      <td>+1.170s</td>\n",
       "      <td>30</td>\n",
       "    </tr>\n",
       "  </tbody>\n",
       "</table>\n",
       "</div>"
      ],
      "text/plain": [
       "     No           Driver                    Car     Time      Gap  Laps\n",
       "Pos                                                                    \n",
       "1    44    LewisHamilton               Mercedes  01:38.8        0    29\n",
       "2    33    MaxVerstappen  Red Bull Racing Honda  01:39.0  +0.184s    29\n",
       "3     5  SebastianVettel                Ferrari  01:39.6  +0.818s    31\n",
       "4    77   ValtteriBottas               Mercedes  01:39.9  +1.121s    30\n",
       "5    23   AlexanderAlbon  Red Bull Racing Honda  01:39.9  +1.170s    30"
      ]
     },
     "execution_count": 67,
     "metadata": {},
     "output_type": "execute_result"
    }
   ],
   "source": [
    "df_p2.head()"
   ]
  },
  {
   "cell_type": "code",
   "execution_count": 68,
   "metadata": {},
   "outputs": [
    {
     "data": {
      "text/html": [
       "<div>\n",
       "<style scoped>\n",
       "    .dataframe tbody tr th:only-of-type {\n",
       "        vertical-align: middle;\n",
       "    }\n",
       "\n",
       "    .dataframe tbody tr th {\n",
       "        vertical-align: top;\n",
       "    }\n",
       "\n",
       "    .dataframe thead th {\n",
       "        text-align: right;\n",
       "    }\n",
       "</style>\n",
       "<table border=\"1\" class=\"dataframe\">\n",
       "  <thead>\n",
       "    <tr style=\"text-align: right;\">\n",
       "      <th></th>\n",
       "      <th>No</th>\n",
       "      <th>Driver</th>\n",
       "      <th>Car</th>\n",
       "      <th>Time</th>\n",
       "      <th>Gap</th>\n",
       "      <th>Laps</th>\n",
       "    </tr>\n",
       "    <tr>\n",
       "      <th>Pos</th>\n",
       "      <th></th>\n",
       "      <th></th>\n",
       "      <th></th>\n",
       "      <th></th>\n",
       "      <th></th>\n",
       "      <th></th>\n",
       "    </tr>\n",
       "  </thead>\n",
       "  <tbody>\n",
       "    <tr>\n",
       "      <td>1</td>\n",
       "      <td>16</td>\n",
       "      <td>CharlesLeclerc</td>\n",
       "      <td>Ferrari</td>\n",
       "      <td>01:38.2</td>\n",
       "      <td>0</td>\n",
       "      <td>15</td>\n",
       "    </tr>\n",
       "    <tr>\n",
       "      <td>2</td>\n",
       "      <td>44</td>\n",
       "      <td>LewisHamilton</td>\n",
       "      <td>Mercedes</td>\n",
       "      <td>01:38.4</td>\n",
       "      <td>+0.207s</td>\n",
       "      <td>15</td>\n",
       "    </tr>\n",
       "    <tr>\n",
       "      <td>3</td>\n",
       "      <td>5</td>\n",
       "      <td>SebastianVettel</td>\n",
       "      <td>Ferrari</td>\n",
       "      <td>01:38.8</td>\n",
       "      <td>+0.619s</td>\n",
       "      <td>13</td>\n",
       "    </tr>\n",
       "    <tr>\n",
       "      <td>4</td>\n",
       "      <td>77</td>\n",
       "      <td>ValtteriBottas</td>\n",
       "      <td>Mercedes</td>\n",
       "      <td>01:38.9</td>\n",
       "      <td>+0.693s</td>\n",
       "      <td>16</td>\n",
       "    </tr>\n",
       "    <tr>\n",
       "      <td>5</td>\n",
       "      <td>23</td>\n",
       "      <td>AlexanderAlbon</td>\n",
       "      <td>Red Bull Racing Honda</td>\n",
       "      <td>01:39.3</td>\n",
       "      <td>+1.066s</td>\n",
       "      <td>14</td>\n",
       "    </tr>\n",
       "  </tbody>\n",
       "</table>\n",
       "</div>"
      ],
      "text/plain": [
       "     No           Driver                    Car     Time      Gap  Laps\n",
       "Pos                                                                    \n",
       "1    16   CharlesLeclerc                Ferrari  01:38.2        0    15\n",
       "2    44    LewisHamilton               Mercedes  01:38.4  +0.207s    15\n",
       "3     5  SebastianVettel                Ferrari  01:38.8  +0.619s    13\n",
       "4    77   ValtteriBottas               Mercedes  01:38.9  +0.693s    16\n",
       "5    23   AlexanderAlbon  Red Bull Racing Honda  01:39.3  +1.066s    14"
      ]
     },
     "execution_count": 68,
     "metadata": {},
     "output_type": "execute_result"
    }
   ],
   "source": [
    "df_p3.head()"
   ]
  },
  {
   "cell_type": "code",
   "execution_count": 69,
   "metadata": {},
   "outputs": [],
   "source": [
    "df_p1['Time']=pd.to_datetime(df_p1['Time'])"
   ]
  },
  {
   "cell_type": "code",
   "execution_count": 70,
   "metadata": {},
   "outputs": [],
   "source": [
    "df_p1['Time'] = df_p1['Time'].dt.time"
   ]
  },
  {
   "cell_type": "code",
   "execution_count": 71,
   "metadata": {},
   "outputs": [],
   "source": [
    "df_p1.to_csv('./singapore_practice_times_2019/practice_Modi_1.csv')"
   ]
  },
  {
   "cell_type": "code",
   "execution_count": 72,
   "metadata": {},
   "outputs": [],
   "source": [
    "def convert_to_seonds(value):\n",
    "            b = value.split(':')\n",
    "            return  int(b[0])*3600 + int(b[1])*60 + int(b[2])"
   ]
  },
  {
   "cell_type": "code",
   "execution_count": 73,
   "metadata": {},
   "outputs": [],
   "source": [
    "df_pr1= pd.read_csv('./singapore_practice_times_2019/practice_Modi_1.csv',\n",
    "                     converters={'Time': convert_to_seonds})"
   ]
  },
  {
   "cell_type": "code",
   "execution_count": 74,
   "metadata": {},
   "outputs": [
    {
     "data": {
      "text/html": [
       "<div>\n",
       "<style scoped>\n",
       "    .dataframe tbody tr th:only-of-type {\n",
       "        vertical-align: middle;\n",
       "    }\n",
       "\n",
       "    .dataframe tbody tr th {\n",
       "        vertical-align: top;\n",
       "    }\n",
       "\n",
       "    .dataframe thead th {\n",
       "        text-align: right;\n",
       "    }\n",
       "</style>\n",
       "<table border=\"1\" class=\"dataframe\">\n",
       "  <thead>\n",
       "    <tr style=\"text-align: right;\">\n",
       "      <th></th>\n",
       "      <th>Pos</th>\n",
       "      <th>No</th>\n",
       "      <th>Driver</th>\n",
       "      <th>Car</th>\n",
       "      <th>Time</th>\n",
       "      <th>Gap</th>\n",
       "      <th>Laps</th>\n",
       "    </tr>\n",
       "  </thead>\n",
       "  <tbody>\n",
       "    <tr>\n",
       "      <td>0</td>\n",
       "      <td>1</td>\n",
       "      <td>33</td>\n",
       "      <td>MaxVerstappen</td>\n",
       "      <td>Red Bull Racing Honda</td>\n",
       "      <td>6018</td>\n",
       "      <td>0</td>\n",
       "      <td>22</td>\n",
       "    </tr>\n",
       "    <tr>\n",
       "      <td>1</td>\n",
       "      <td>2</td>\n",
       "      <td>5</td>\n",
       "      <td>SebastianVettel</td>\n",
       "      <td>Ferrari</td>\n",
       "      <td>6024</td>\n",
       "      <td>+0.167s</td>\n",
       "      <td>23</td>\n",
       "    </tr>\n",
       "  </tbody>\n",
       "</table>\n",
       "</div>"
      ],
      "text/plain": [
       "   Pos  No           Driver                    Car  Time      Gap  Laps\n",
       "0    1  33    MaxVerstappen  Red Bull Racing Honda  6018        0    22\n",
       "1    2   5  SebastianVettel                Ferrari  6024  +0.167s    23"
      ]
     },
     "execution_count": 74,
     "metadata": {},
     "output_type": "execute_result"
    }
   ],
   "source": [
    "df_pr1.head(2)"
   ]
  },
  {
   "cell_type": "code",
   "execution_count": 75,
   "metadata": {},
   "outputs": [
    {
     "data": {
      "text/plain": [
       "Index(['Pos', 'No', 'Driver', 'Car', 'Time', 'Gap', 'Laps'], dtype='object')"
      ]
     },
     "execution_count": 75,
     "metadata": {},
     "output_type": "execute_result"
    }
   ],
   "source": [
    "df_pr1.columns"
   ]
  },
  {
   "cell_type": "code",
   "execution_count": 76,
   "metadata": {},
   "outputs": [],
   "source": [
    "df_pr1.columns=['P1_Pos', 'No', 'Driver', 'Car', 'Practice_Time1', 'Gap_in_Practice_1_time', 'p1_Laps_90_min']"
   ]
  },
  {
   "cell_type": "code",
   "execution_count": 77,
   "metadata": {},
   "outputs": [],
   "source": [
    "#df_pr1=df_pr1.drop(['Driver','Car'],axis=1)"
   ]
  },
  {
   "cell_type": "code",
   "execution_count": 78,
   "metadata": {},
   "outputs": [
    {
     "data": {
      "text/html": [
       "<div>\n",
       "<style scoped>\n",
       "    .dataframe tbody tr th:only-of-type {\n",
       "        vertical-align: middle;\n",
       "    }\n",
       "\n",
       "    .dataframe tbody tr th {\n",
       "        vertical-align: top;\n",
       "    }\n",
       "\n",
       "    .dataframe thead th {\n",
       "        text-align: right;\n",
       "    }\n",
       "</style>\n",
       "<table border=\"1\" class=\"dataframe\">\n",
       "  <thead>\n",
       "    <tr style=\"text-align: right;\">\n",
       "      <th></th>\n",
       "      <th>P1_Pos</th>\n",
       "      <th>No</th>\n",
       "      <th>Driver</th>\n",
       "      <th>Car</th>\n",
       "      <th>Practice_Time1</th>\n",
       "      <th>Gap_in_Practice_1_time</th>\n",
       "      <th>p1_Laps_90_min</th>\n",
       "    </tr>\n",
       "  </thead>\n",
       "  <tbody>\n",
       "    <tr>\n",
       "      <td>0</td>\n",
       "      <td>1</td>\n",
       "      <td>33</td>\n",
       "      <td>MaxVerstappen</td>\n",
       "      <td>Red Bull Racing Honda</td>\n",
       "      <td>6018</td>\n",
       "      <td>0</td>\n",
       "      <td>22</td>\n",
       "    </tr>\n",
       "    <tr>\n",
       "      <td>1</td>\n",
       "      <td>2</td>\n",
       "      <td>5</td>\n",
       "      <td>SebastianVettel</td>\n",
       "      <td>Ferrari</td>\n",
       "      <td>6024</td>\n",
       "      <td>+0.167s</td>\n",
       "      <td>23</td>\n",
       "    </tr>\n",
       "  </tbody>\n",
       "</table>\n",
       "</div>"
      ],
      "text/plain": [
       "   P1_Pos  No           Driver                    Car  Practice_Time1  \\\n",
       "0       1  33    MaxVerstappen  Red Bull Racing Honda            6018   \n",
       "1       2   5  SebastianVettel                Ferrari            6024   \n",
       "\n",
       "  Gap_in_Practice_1_time  p1_Laps_90_min  \n",
       "0                      0              22  \n",
       "1                +0.167s              23  "
      ]
     },
     "execution_count": 78,
     "metadata": {},
     "output_type": "execute_result"
    }
   ],
   "source": [
    "df_pr1.head(2)"
   ]
  },
  {
   "cell_type": "code",
   "execution_count": 79,
   "metadata": {},
   "outputs": [],
   "source": [
    "df_p2['Time']=pd.to_datetime(df_p2['Time'])"
   ]
  },
  {
   "cell_type": "code",
   "execution_count": 80,
   "metadata": {},
   "outputs": [],
   "source": [
    "df_p2['Time'] = df_p2['Time'].dt.time"
   ]
  },
  {
   "cell_type": "code",
   "execution_count": 81,
   "metadata": {},
   "outputs": [],
   "source": [
    "df_p2.to_csv('./singapore_practice_times_2019/practice_Modi_2.csv')"
   ]
  },
  {
   "cell_type": "code",
   "execution_count": 82,
   "metadata": {},
   "outputs": [],
   "source": [
    "def convert_to_seonds(value):\n",
    "            b = value.split(':')\n",
    "            return  int(b[0])*3600 + int(b[1])*60 + int(b[2])"
   ]
  },
  {
   "cell_type": "code",
   "execution_count": 83,
   "metadata": {},
   "outputs": [],
   "source": [
    "df_pr2= pd.read_csv('./singapore_practice_times_2019/practice_Modi_2.csv',\n",
    "                     converters={'Time': convert_to_seonds})"
   ]
  },
  {
   "cell_type": "code",
   "execution_count": 84,
   "metadata": {},
   "outputs": [
    {
     "data": {
      "text/html": [
       "<div>\n",
       "<style scoped>\n",
       "    .dataframe tbody tr th:only-of-type {\n",
       "        vertical-align: middle;\n",
       "    }\n",
       "\n",
       "    .dataframe tbody tr th {\n",
       "        vertical-align: top;\n",
       "    }\n",
       "\n",
       "    .dataframe thead th {\n",
       "        text-align: right;\n",
       "    }\n",
       "</style>\n",
       "<table border=\"1\" class=\"dataframe\">\n",
       "  <thead>\n",
       "    <tr style=\"text-align: right;\">\n",
       "      <th></th>\n",
       "      <th>Pos</th>\n",
       "      <th>No</th>\n",
       "      <th>Driver</th>\n",
       "      <th>Car</th>\n",
       "      <th>Time</th>\n",
       "      <th>Gap</th>\n",
       "      <th>Laps</th>\n",
       "    </tr>\n",
       "  </thead>\n",
       "  <tbody>\n",
       "    <tr>\n",
       "      <td>0</td>\n",
       "      <td>1</td>\n",
       "      <td>44</td>\n",
       "      <td>LewisHamilton</td>\n",
       "      <td>Mercedes</td>\n",
       "      <td>5928</td>\n",
       "      <td>0</td>\n",
       "      <td>29</td>\n",
       "    </tr>\n",
       "    <tr>\n",
       "      <td>1</td>\n",
       "      <td>2</td>\n",
       "      <td>33</td>\n",
       "      <td>MaxVerstappen</td>\n",
       "      <td>Red Bull Racing Honda</td>\n",
       "      <td>5940</td>\n",
       "      <td>+0.184s</td>\n",
       "      <td>29</td>\n",
       "    </tr>\n",
       "  </tbody>\n",
       "</table>\n",
       "</div>"
      ],
      "text/plain": [
       "   Pos  No         Driver                    Car  Time      Gap  Laps\n",
       "0    1  44  LewisHamilton               Mercedes  5928        0    29\n",
       "1    2  33  MaxVerstappen  Red Bull Racing Honda  5940  +0.184s    29"
      ]
     },
     "execution_count": 84,
     "metadata": {},
     "output_type": "execute_result"
    }
   ],
   "source": [
    "df_pr2.head(2)"
   ]
  },
  {
   "cell_type": "code",
   "execution_count": 85,
   "metadata": {},
   "outputs": [
    {
     "data": {
      "text/plain": [
       "Index(['Pos', 'No', 'Driver', 'Car', 'Time', 'Gap', 'Laps'], dtype='object')"
      ]
     },
     "execution_count": 85,
     "metadata": {},
     "output_type": "execute_result"
    }
   ],
   "source": [
    "df_pr2.columns"
   ]
  },
  {
   "cell_type": "code",
   "execution_count": 86,
   "metadata": {},
   "outputs": [],
   "source": [
    "df_pr2.columns=['P2_Pos', 'No', 'Driver', 'Car', 'Practice_Time2', 'Gap_in_Practice_2_time', 'p2_Laps_90_min']"
   ]
  },
  {
   "cell_type": "code",
   "execution_count": 87,
   "metadata": {},
   "outputs": [],
   "source": [
    "#df_pr2=df_pr2.drop(['Driver','Car'],axis=1)"
   ]
  },
  {
   "cell_type": "code",
   "execution_count": 88,
   "metadata": {},
   "outputs": [
    {
     "data": {
      "text/plain": [
       "Index(['P2_Pos', 'No', 'Driver', 'Car', 'Practice_Time2',\n",
       "       'Gap_in_Practice_2_time', 'p2_Laps_90_min'],\n",
       "      dtype='object')"
      ]
     },
     "execution_count": 88,
     "metadata": {},
     "output_type": "execute_result"
    }
   ],
   "source": [
    "df_pr2.columns"
   ]
  },
  {
   "cell_type": "code",
   "execution_count": 89,
   "metadata": {},
   "outputs": [],
   "source": [
    "df_p3['Time']=pd.to_datetime(df_p3['Time'])"
   ]
  },
  {
   "cell_type": "code",
   "execution_count": 90,
   "metadata": {},
   "outputs": [],
   "source": [
    "df_p3['Time'] = df_p3['Time'].dt.time"
   ]
  },
  {
   "cell_type": "code",
   "execution_count": 91,
   "metadata": {},
   "outputs": [],
   "source": [
    "df_p3.to_csv('./singapore_practice_times_2019/practice_Modi_3.csv')"
   ]
  },
  {
   "cell_type": "code",
   "execution_count": 92,
   "metadata": {},
   "outputs": [],
   "source": [
    "def convert_to_seonds(value):\n",
    "            b = value.split(':')\n",
    "            return  int(b[0])*3600 + int(b[1])*60 + int(b[2])"
   ]
  },
  {
   "cell_type": "code",
   "execution_count": 93,
   "metadata": {},
   "outputs": [],
   "source": [
    "df_pr3= pd.read_csv('./singapore_practice_times_2019/practice_Modi_3.csv',\n",
    "                     converters={'Time': convert_to_seonds})"
   ]
  },
  {
   "cell_type": "code",
   "execution_count": 94,
   "metadata": {},
   "outputs": [
    {
     "data": {
      "text/html": [
       "<div>\n",
       "<style scoped>\n",
       "    .dataframe tbody tr th:only-of-type {\n",
       "        vertical-align: middle;\n",
       "    }\n",
       "\n",
       "    .dataframe tbody tr th {\n",
       "        vertical-align: top;\n",
       "    }\n",
       "\n",
       "    .dataframe thead th {\n",
       "        text-align: right;\n",
       "    }\n",
       "</style>\n",
       "<table border=\"1\" class=\"dataframe\">\n",
       "  <thead>\n",
       "    <tr style=\"text-align: right;\">\n",
       "      <th></th>\n",
       "      <th>Pos</th>\n",
       "      <th>No</th>\n",
       "      <th>Driver</th>\n",
       "      <th>Car</th>\n",
       "      <th>Time</th>\n",
       "      <th>Gap</th>\n",
       "      <th>Laps</th>\n",
       "    </tr>\n",
       "  </thead>\n",
       "  <tbody>\n",
       "    <tr>\n",
       "      <td>0</td>\n",
       "      <td>1</td>\n",
       "      <td>16</td>\n",
       "      <td>CharlesLeclerc</td>\n",
       "      <td>Ferrari</td>\n",
       "      <td>5892</td>\n",
       "      <td>0</td>\n",
       "      <td>15</td>\n",
       "    </tr>\n",
       "    <tr>\n",
       "      <td>1</td>\n",
       "      <td>2</td>\n",
       "      <td>44</td>\n",
       "      <td>LewisHamilton</td>\n",
       "      <td>Mercedes</td>\n",
       "      <td>5904</td>\n",
       "      <td>+0.207s</td>\n",
       "      <td>15</td>\n",
       "    </tr>\n",
       "  </tbody>\n",
       "</table>\n",
       "</div>"
      ],
      "text/plain": [
       "   Pos  No          Driver       Car  Time      Gap  Laps\n",
       "0    1  16  CharlesLeclerc   Ferrari  5892        0    15\n",
       "1    2  44   LewisHamilton  Mercedes  5904  +0.207s    15"
      ]
     },
     "execution_count": 94,
     "metadata": {},
     "output_type": "execute_result"
    }
   ],
   "source": [
    "df_pr3.head(2)"
   ]
  },
  {
   "cell_type": "code",
   "execution_count": 95,
   "metadata": {},
   "outputs": [
    {
     "data": {
      "text/plain": [
       "Index(['Pos', 'No', 'Driver', 'Car', 'Time', 'Gap', 'Laps'], dtype='object')"
      ]
     },
     "execution_count": 95,
     "metadata": {},
     "output_type": "execute_result"
    }
   ],
   "source": [
    "df_pr3.columns"
   ]
  },
  {
   "cell_type": "code",
   "execution_count": 96,
   "metadata": {},
   "outputs": [],
   "source": [
    "df_pr3.columns=['P3_Pos','No','Driver','Car','Practice_Time3','Gap_in_Practice_3_time','p3_Laps_90_min']"
   ]
  },
  {
   "cell_type": "code",
   "execution_count": 97,
   "metadata": {},
   "outputs": [],
   "source": [
    "df_pr3=df_pr3.drop(['Driver','Car'],axis=1)"
   ]
  },
  {
   "cell_type": "code",
   "execution_count": 98,
   "metadata": {},
   "outputs": [
    {
     "data": {
      "text/html": [
       "<div>\n",
       "<style scoped>\n",
       "    .dataframe tbody tr th:only-of-type {\n",
       "        vertical-align: middle;\n",
       "    }\n",
       "\n",
       "    .dataframe tbody tr th {\n",
       "        vertical-align: top;\n",
       "    }\n",
       "\n",
       "    .dataframe thead th {\n",
       "        text-align: right;\n",
       "    }\n",
       "</style>\n",
       "<table border=\"1\" class=\"dataframe\">\n",
       "  <thead>\n",
       "    <tr style=\"text-align: right;\">\n",
       "      <th></th>\n",
       "      <th>P1_Pos</th>\n",
       "      <th>No</th>\n",
       "      <th>Driver</th>\n",
       "      <th>Car</th>\n",
       "      <th>Practice_Time1</th>\n",
       "      <th>Gap_in_Practice_1_time</th>\n",
       "      <th>p1_Laps_90_min</th>\n",
       "    </tr>\n",
       "  </thead>\n",
       "  <tbody>\n",
       "    <tr>\n",
       "      <td>0</td>\n",
       "      <td>1</td>\n",
       "      <td>33</td>\n",
       "      <td>MaxVerstappen</td>\n",
       "      <td>Red Bull Racing Honda</td>\n",
       "      <td>6018</td>\n",
       "      <td>0</td>\n",
       "      <td>22</td>\n",
       "    </tr>\n",
       "    <tr>\n",
       "      <td>1</td>\n",
       "      <td>2</td>\n",
       "      <td>5</td>\n",
       "      <td>SebastianVettel</td>\n",
       "      <td>Ferrari</td>\n",
       "      <td>6024</td>\n",
       "      <td>+0.167s</td>\n",
       "      <td>23</td>\n",
       "    </tr>\n",
       "    <tr>\n",
       "      <td>2</td>\n",
       "      <td>3</td>\n",
       "      <td>44</td>\n",
       "      <td>LewisHamilton</td>\n",
       "      <td>Mercedes</td>\n",
       "      <td>6054</td>\n",
       "      <td>+0.666s</td>\n",
       "      <td>26</td>\n",
       "    </tr>\n",
       "    <tr>\n",
       "      <td>3</td>\n",
       "      <td>4</td>\n",
       "      <td>77</td>\n",
       "      <td>ValtteriBottas</td>\n",
       "      <td>Mercedes</td>\n",
       "      <td>6078</td>\n",
       "      <td>+1.077s</td>\n",
       "      <td>14</td>\n",
       "    </tr>\n",
       "    <tr>\n",
       "      <td>4</td>\n",
       "      <td>5</td>\n",
       "      <td>23</td>\n",
       "      <td>AlexanderAlbon</td>\n",
       "      <td>Red Bull Racing Honda</td>\n",
       "      <td>6090</td>\n",
       "      <td>+1.208s</td>\n",
       "      <td>24</td>\n",
       "    </tr>\n",
       "  </tbody>\n",
       "</table>\n",
       "</div>"
      ],
      "text/plain": [
       "   P1_Pos  No           Driver                    Car  Practice_Time1  \\\n",
       "0       1  33    MaxVerstappen  Red Bull Racing Honda            6018   \n",
       "1       2   5  SebastianVettel                Ferrari            6024   \n",
       "2       3  44    LewisHamilton               Mercedes            6054   \n",
       "3       4  77   ValtteriBottas               Mercedes            6078   \n",
       "4       5  23   AlexanderAlbon  Red Bull Racing Honda            6090   \n",
       "\n",
       "  Gap_in_Practice_1_time  p1_Laps_90_min  \n",
       "0                      0              22  \n",
       "1                +0.167s              23  \n",
       "2                +0.666s              26  \n",
       "3                +1.077s              14  \n",
       "4                +1.208s              24  "
      ]
     },
     "execution_count": 98,
     "metadata": {},
     "output_type": "execute_result"
    }
   ],
   "source": [
    "df_pr1.head()"
   ]
  },
  {
   "cell_type": "code",
   "execution_count": 99,
   "metadata": {},
   "outputs": [
    {
     "data": {
      "text/html": [
       "<div>\n",
       "<style scoped>\n",
       "    .dataframe tbody tr th:only-of-type {\n",
       "        vertical-align: middle;\n",
       "    }\n",
       "\n",
       "    .dataframe tbody tr th {\n",
       "        vertical-align: top;\n",
       "    }\n",
       "\n",
       "    .dataframe thead th {\n",
       "        text-align: right;\n",
       "    }\n",
       "</style>\n",
       "<table border=\"1\" class=\"dataframe\">\n",
       "  <thead>\n",
       "    <tr style=\"text-align: right;\">\n",
       "      <th></th>\n",
       "      <th>P2_Pos</th>\n",
       "      <th>No</th>\n",
       "      <th>Driver</th>\n",
       "      <th>Car</th>\n",
       "      <th>Practice_Time2</th>\n",
       "      <th>Gap_in_Practice_2_time</th>\n",
       "      <th>p2_Laps_90_min</th>\n",
       "    </tr>\n",
       "  </thead>\n",
       "  <tbody>\n",
       "    <tr>\n",
       "      <td>0</td>\n",
       "      <td>1</td>\n",
       "      <td>44</td>\n",
       "      <td>LewisHamilton</td>\n",
       "      <td>Mercedes</td>\n",
       "      <td>5928</td>\n",
       "      <td>0</td>\n",
       "      <td>29</td>\n",
       "    </tr>\n",
       "    <tr>\n",
       "      <td>1</td>\n",
       "      <td>2</td>\n",
       "      <td>33</td>\n",
       "      <td>MaxVerstappen</td>\n",
       "      <td>Red Bull Racing Honda</td>\n",
       "      <td>5940</td>\n",
       "      <td>+0.184s</td>\n",
       "      <td>29</td>\n",
       "    </tr>\n",
       "    <tr>\n",
       "      <td>2</td>\n",
       "      <td>3</td>\n",
       "      <td>5</td>\n",
       "      <td>SebastianVettel</td>\n",
       "      <td>Ferrari</td>\n",
       "      <td>5976</td>\n",
       "      <td>+0.818s</td>\n",
       "      <td>31</td>\n",
       "    </tr>\n",
       "    <tr>\n",
       "      <td>3</td>\n",
       "      <td>4</td>\n",
       "      <td>77</td>\n",
       "      <td>ValtteriBottas</td>\n",
       "      <td>Mercedes</td>\n",
       "      <td>5994</td>\n",
       "      <td>+1.121s</td>\n",
       "      <td>30</td>\n",
       "    </tr>\n",
       "    <tr>\n",
       "      <td>4</td>\n",
       "      <td>5</td>\n",
       "      <td>23</td>\n",
       "      <td>AlexanderAlbon</td>\n",
       "      <td>Red Bull Racing Honda</td>\n",
       "      <td>5994</td>\n",
       "      <td>+1.170s</td>\n",
       "      <td>30</td>\n",
       "    </tr>\n",
       "  </tbody>\n",
       "</table>\n",
       "</div>"
      ],
      "text/plain": [
       "   P2_Pos  No           Driver                    Car  Practice_Time2  \\\n",
       "0       1  44    LewisHamilton               Mercedes            5928   \n",
       "1       2  33    MaxVerstappen  Red Bull Racing Honda            5940   \n",
       "2       3   5  SebastianVettel                Ferrari            5976   \n",
       "3       4  77   ValtteriBottas               Mercedes            5994   \n",
       "4       5  23   AlexanderAlbon  Red Bull Racing Honda            5994   \n",
       "\n",
       "  Gap_in_Practice_2_time  p2_Laps_90_min  \n",
       "0                      0              29  \n",
       "1                +0.184s              29  \n",
       "2                +0.818s              31  \n",
       "3                +1.121s              30  \n",
       "4                +1.170s              30  "
      ]
     },
     "execution_count": 99,
     "metadata": {},
     "output_type": "execute_result"
    }
   ],
   "source": [
    "df_pr2.head()"
   ]
  },
  {
   "cell_type": "code",
   "execution_count": 100,
   "metadata": {},
   "outputs": [
    {
     "data": {
      "text/plain": [
       "Index(['P2_Pos', 'No', 'Driver', 'Car', 'Practice_Time2',\n",
       "       'Gap_in_Practice_2_time', 'p2_Laps_90_min'],\n",
       "      dtype='object')"
      ]
     },
     "execution_count": 100,
     "metadata": {},
     "output_type": "execute_result"
    }
   ],
   "source": [
    "df_pr2.columns"
   ]
  },
  {
   "cell_type": "code",
   "execution_count": 101,
   "metadata": {},
   "outputs": [],
   "source": [
    "df_practice_temp1_2 = pd.merge(df_pr1,df_pr2,how = 'inner', on='No')"
   ]
  },
  {
   "cell_type": "code",
   "execution_count": 102,
   "metadata": {},
   "outputs": [
    {
     "data": {
      "text/html": [
       "<div>\n",
       "<style scoped>\n",
       "    .dataframe tbody tr th:only-of-type {\n",
       "        vertical-align: middle;\n",
       "    }\n",
       "\n",
       "    .dataframe tbody tr th {\n",
       "        vertical-align: top;\n",
       "    }\n",
       "\n",
       "    .dataframe thead th {\n",
       "        text-align: right;\n",
       "    }\n",
       "</style>\n",
       "<table border=\"1\" class=\"dataframe\">\n",
       "  <thead>\n",
       "    <tr style=\"text-align: right;\">\n",
       "      <th></th>\n",
       "      <th>P1_Pos</th>\n",
       "      <th>No</th>\n",
       "      <th>Driver_x</th>\n",
       "      <th>Car_x</th>\n",
       "      <th>Practice_Time1</th>\n",
       "      <th>Gap_in_Practice_1_time</th>\n",
       "      <th>p1_Laps_90_min</th>\n",
       "      <th>P2_Pos</th>\n",
       "      <th>Driver_y</th>\n",
       "      <th>Car_y</th>\n",
       "      <th>Practice_Time2</th>\n",
       "      <th>Gap_in_Practice_2_time</th>\n",
       "      <th>p2_Laps_90_min</th>\n",
       "    </tr>\n",
       "  </thead>\n",
       "  <tbody>\n",
       "    <tr>\n",
       "      <td>0</td>\n",
       "      <td>1</td>\n",
       "      <td>33</td>\n",
       "      <td>MaxVerstappen</td>\n",
       "      <td>Red Bull Racing Honda</td>\n",
       "      <td>6018</td>\n",
       "      <td>0</td>\n",
       "      <td>22</td>\n",
       "      <td>2</td>\n",
       "      <td>MaxVerstappen</td>\n",
       "      <td>Red Bull Racing Honda</td>\n",
       "      <td>5940</td>\n",
       "      <td>+0.184s</td>\n",
       "      <td>29</td>\n",
       "    </tr>\n",
       "    <tr>\n",
       "      <td>1</td>\n",
       "      <td>2</td>\n",
       "      <td>5</td>\n",
       "      <td>SebastianVettel</td>\n",
       "      <td>Ferrari</td>\n",
       "      <td>6024</td>\n",
       "      <td>+0.167s</td>\n",
       "      <td>23</td>\n",
       "      <td>3</td>\n",
       "      <td>SebastianVettel</td>\n",
       "      <td>Ferrari</td>\n",
       "      <td>5976</td>\n",
       "      <td>+0.818s</td>\n",
       "      <td>31</td>\n",
       "    </tr>\n",
       "    <tr>\n",
       "      <td>2</td>\n",
       "      <td>3</td>\n",
       "      <td>44</td>\n",
       "      <td>LewisHamilton</td>\n",
       "      <td>Mercedes</td>\n",
       "      <td>6054</td>\n",
       "      <td>+0.666s</td>\n",
       "      <td>26</td>\n",
       "      <td>1</td>\n",
       "      <td>LewisHamilton</td>\n",
       "      <td>Mercedes</td>\n",
       "      <td>5928</td>\n",
       "      <td>0</td>\n",
       "      <td>29</td>\n",
       "    </tr>\n",
       "    <tr>\n",
       "      <td>3</td>\n",
       "      <td>4</td>\n",
       "      <td>77</td>\n",
       "      <td>ValtteriBottas</td>\n",
       "      <td>Mercedes</td>\n",
       "      <td>6078</td>\n",
       "      <td>+1.077s</td>\n",
       "      <td>14</td>\n",
       "      <td>4</td>\n",
       "      <td>ValtteriBottas</td>\n",
       "      <td>Mercedes</td>\n",
       "      <td>5994</td>\n",
       "      <td>+1.121s</td>\n",
       "      <td>30</td>\n",
       "    </tr>\n",
       "    <tr>\n",
       "      <td>4</td>\n",
       "      <td>5</td>\n",
       "      <td>23</td>\n",
       "      <td>AlexanderAlbon</td>\n",
       "      <td>Red Bull Racing Honda</td>\n",
       "      <td>6090</td>\n",
       "      <td>+1.208s</td>\n",
       "      <td>24</td>\n",
       "      <td>5</td>\n",
       "      <td>AlexanderAlbon</td>\n",
       "      <td>Red Bull Racing Honda</td>\n",
       "      <td>5994</td>\n",
       "      <td>+1.170s</td>\n",
       "      <td>30</td>\n",
       "    </tr>\n",
       "  </tbody>\n",
       "</table>\n",
       "</div>"
      ],
      "text/plain": [
       "   P1_Pos  No         Driver_x                  Car_x  Practice_Time1  \\\n",
       "0       1  33    MaxVerstappen  Red Bull Racing Honda            6018   \n",
       "1       2   5  SebastianVettel                Ferrari            6024   \n",
       "2       3  44    LewisHamilton               Mercedes            6054   \n",
       "3       4  77   ValtteriBottas               Mercedes            6078   \n",
       "4       5  23   AlexanderAlbon  Red Bull Racing Honda            6090   \n",
       "\n",
       "  Gap_in_Practice_1_time  p1_Laps_90_min  P2_Pos         Driver_y  \\\n",
       "0                      0              22       2    MaxVerstappen   \n",
       "1                +0.167s              23       3  SebastianVettel   \n",
       "2                +0.666s              26       1    LewisHamilton   \n",
       "3                +1.077s              14       4   ValtteriBottas   \n",
       "4                +1.208s              24       5   AlexanderAlbon   \n",
       "\n",
       "                   Car_y  Practice_Time2 Gap_in_Practice_2_time  \\\n",
       "0  Red Bull Racing Honda            5940                +0.184s   \n",
       "1                Ferrari            5976                +0.818s   \n",
       "2               Mercedes            5928                      0   \n",
       "3               Mercedes            5994                +1.121s   \n",
       "4  Red Bull Racing Honda            5994                +1.170s   \n",
       "\n",
       "   p2_Laps_90_min  \n",
       "0              29  \n",
       "1              31  \n",
       "2              29  \n",
       "3              30  \n",
       "4              30  "
      ]
     },
     "execution_count": 102,
     "metadata": {},
     "output_type": "execute_result"
    }
   ],
   "source": [
    "df_practice_temp1_2.head()"
   ]
  },
  {
   "cell_type": "code",
   "execution_count": 103,
   "metadata": {},
   "outputs": [],
   "source": [
    "df_practice_temp_1_2_3 = pd.merge(df_practice_temp1_2,df_pr3,how = 'inner', on='No')"
   ]
  },
  {
   "cell_type": "code",
   "execution_count": 104,
   "metadata": {},
   "outputs": [
    {
     "data": {
      "text/plain": [
       "Index(['P1_Pos', 'No', 'Driver_x', 'Car_x', 'Practice_Time1',\n",
       "       'Gap_in_Practice_1_time', 'p1_Laps_90_min', 'P2_Pos', 'Driver_y',\n",
       "       'Car_y', 'Practice_Time2', 'Gap_in_Practice_2_time', 'p2_Laps_90_min',\n",
       "       'P3_Pos', 'Practice_Time3', 'Gap_in_Practice_3_time', 'p3_Laps_90_min'],\n",
       "      dtype='object')"
      ]
     },
     "execution_count": 104,
     "metadata": {},
     "output_type": "execute_result"
    }
   ],
   "source": [
    "df_practice_temp_1_2_3.columns"
   ]
  },
  {
   "cell_type": "code",
   "execution_count": 105,
   "metadata": {},
   "outputs": [],
   "source": [
    "df_practice_temp_1_2_3=df_practice_temp_1_2_3[['P1_Pos','P2_Pos','P3_Pos','No','Practice_Time1','Practice_Time2','Practice_Time3',\n",
    "                                'Gap_in_Practice_1_time',\n",
    "                                'Gap_in_Practice_2_time',\n",
    "                                'Gap_in_Practice_3_time',\n",
    "                                'p1_Laps_90_min','p2_Laps_90_min', 'p3_Laps_90_min']]\n",
    "      "
   ]
  },
  {
   "cell_type": "code",
   "execution_count": 106,
   "metadata": {},
   "outputs": [
    {
     "data": {
      "text/html": [
       "<div>\n",
       "<style scoped>\n",
       "    .dataframe tbody tr th:only-of-type {\n",
       "        vertical-align: middle;\n",
       "    }\n",
       "\n",
       "    .dataframe tbody tr th {\n",
       "        vertical-align: top;\n",
       "    }\n",
       "\n",
       "    .dataframe thead th {\n",
       "        text-align: right;\n",
       "    }\n",
       "</style>\n",
       "<table border=\"1\" class=\"dataframe\">\n",
       "  <thead>\n",
       "    <tr style=\"text-align: right;\">\n",
       "      <th></th>\n",
       "      <th>P1_Pos</th>\n",
       "      <th>P2_Pos</th>\n",
       "      <th>P3_Pos</th>\n",
       "      <th>No</th>\n",
       "      <th>Practice_Time1</th>\n",
       "      <th>Practice_Time2</th>\n",
       "      <th>Practice_Time3</th>\n",
       "      <th>Gap_in_Practice_1_time</th>\n",
       "      <th>Gap_in_Practice_2_time</th>\n",
       "      <th>Gap_in_Practice_3_time</th>\n",
       "      <th>p1_Laps_90_min</th>\n",
       "      <th>p2_Laps_90_min</th>\n",
       "      <th>p3_Laps_90_min</th>\n",
       "    </tr>\n",
       "  </thead>\n",
       "  <tbody>\n",
       "    <tr>\n",
       "      <td>0</td>\n",
       "      <td>1</td>\n",
       "      <td>2</td>\n",
       "      <td>6</td>\n",
       "      <td>33</td>\n",
       "      <td>6018</td>\n",
       "      <td>5940</td>\n",
       "      <td>5964</td>\n",
       "      <td>0</td>\n",
       "      <td>+0.184s</td>\n",
       "      <td>+1.174s</td>\n",
       "      <td>22</td>\n",
       "      <td>29</td>\n",
       "      <td>9</td>\n",
       "    </tr>\n",
       "    <tr>\n",
       "      <td>1</td>\n",
       "      <td>2</td>\n",
       "      <td>3</td>\n",
       "      <td>3</td>\n",
       "      <td>5</td>\n",
       "      <td>6024</td>\n",
       "      <td>5976</td>\n",
       "      <td>5928</td>\n",
       "      <td>+0.167s</td>\n",
       "      <td>+0.818s</td>\n",
       "      <td>+0.619s</td>\n",
       "      <td>23</td>\n",
       "      <td>31</td>\n",
       "      <td>13</td>\n",
       "    </tr>\n",
       "    <tr>\n",
       "      <td>2</td>\n",
       "      <td>3</td>\n",
       "      <td>1</td>\n",
       "      <td>2</td>\n",
       "      <td>44</td>\n",
       "      <td>6054</td>\n",
       "      <td>5928</td>\n",
       "      <td>5904</td>\n",
       "      <td>+0.666s</td>\n",
       "      <td>0</td>\n",
       "      <td>+0.207s</td>\n",
       "      <td>26</td>\n",
       "      <td>29</td>\n",
       "      <td>15</td>\n",
       "    </tr>\n",
       "    <tr>\n",
       "      <td>3</td>\n",
       "      <td>4</td>\n",
       "      <td>4</td>\n",
       "      <td>4</td>\n",
       "      <td>77</td>\n",
       "      <td>6078</td>\n",
       "      <td>5994</td>\n",
       "      <td>5934</td>\n",
       "      <td>+1.077s</td>\n",
       "      <td>+1.121s</td>\n",
       "      <td>+0.693s</td>\n",
       "      <td>14</td>\n",
       "      <td>30</td>\n",
       "      <td>16</td>\n",
       "    </tr>\n",
       "    <tr>\n",
       "      <td>4</td>\n",
       "      <td>5</td>\n",
       "      <td>5</td>\n",
       "      <td>5</td>\n",
       "      <td>23</td>\n",
       "      <td>6090</td>\n",
       "      <td>5994</td>\n",
       "      <td>5958</td>\n",
       "      <td>+1.208s</td>\n",
       "      <td>+1.170s</td>\n",
       "      <td>+1.066s</td>\n",
       "      <td>24</td>\n",
       "      <td>30</td>\n",
       "      <td>14</td>\n",
       "    </tr>\n",
       "  </tbody>\n",
       "</table>\n",
       "</div>"
      ],
      "text/plain": [
       "   P1_Pos  P2_Pos  P3_Pos  No  Practice_Time1  Practice_Time2  Practice_Time3  \\\n",
       "0       1       2       6  33            6018            5940            5964   \n",
       "1       2       3       3   5            6024            5976            5928   \n",
       "2       3       1       2  44            6054            5928            5904   \n",
       "3       4       4       4  77            6078            5994            5934   \n",
       "4       5       5       5  23            6090            5994            5958   \n",
       "\n",
       "  Gap_in_Practice_1_time Gap_in_Practice_2_time Gap_in_Practice_3_time  \\\n",
       "0                      0                +0.184s                +1.174s   \n",
       "1                +0.167s                +0.818s                +0.619s   \n",
       "2                +0.666s                      0                +0.207s   \n",
       "3                +1.077s                +1.121s                +0.693s   \n",
       "4                +1.208s                +1.170s                +1.066s   \n",
       "\n",
       "   p1_Laps_90_min  p2_Laps_90_min  p3_Laps_90_min  \n",
       "0              22              29               9  \n",
       "1              23              31              13  \n",
       "2              26              29              15  \n",
       "3              14              30              16  \n",
       "4              24              30              14  "
      ]
     },
     "execution_count": 106,
     "metadata": {},
     "output_type": "execute_result"
    }
   ],
   "source": [
    "df_practice_temp_1_2_3.head()"
   ]
  },
  {
   "cell_type": "code",
   "execution_count": 107,
   "metadata": {},
   "outputs": [
    {
     "data": {
      "text/plain": [
       "(19, 13)"
      ]
     },
     "execution_count": 107,
     "metadata": {},
     "output_type": "execute_result"
    }
   ],
   "source": [
    "df_practice_temp_1_2_3.shape"
   ]
  },
  {
   "cell_type": "code",
   "execution_count": 108,
   "metadata": {},
   "outputs": [
    {
     "data": {
      "text/plain": [
       "P1_Pos                    False\n",
       "P2_Pos                    False\n",
       "P3_Pos                    False\n",
       "No                        False\n",
       "Practice_Time1            False\n",
       "Practice_Time2            False\n",
       "Practice_Time3            False\n",
       "Gap_in_Practice_1_time    False\n",
       "Gap_in_Practice_2_time    False\n",
       "Gap_in_Practice_3_time    False\n",
       "p1_Laps_90_min            False\n",
       "p2_Laps_90_min            False\n",
       "p3_Laps_90_min            False\n",
       "dtype: bool"
      ]
     },
     "execution_count": 108,
     "metadata": {},
     "output_type": "execute_result"
    }
   ],
   "source": [
    "df_practice_temp_1_2_3.isna().any()"
   ]
  },
  {
   "cell_type": "markdown",
   "metadata": {},
   "source": [
    "### The following dataframe contains singapore analysis data(driver standings and constructor standings,results,weather)\n",
    "But we want 2019 data from this data frame to merge with practice times of 2019."
   ]
  },
  {
   "cell_type": "code",
   "execution_count": 109,
   "metadata": {},
   "outputs": [],
   "source": [
    "df_singapore_2019=df_analysis.loc[(df_analysis['race_year']==2019)]"
   ]
  },
  {
   "cell_type": "code",
   "execution_count": 110,
   "metadata": {},
   "outputs": [
    {
     "data": {
      "text/plain": [
       "Index(['raceId', 'driverId', 'D_points', 'D_wins', 'race_year',\n",
       "       'constructorId_x', 'starting_grid', 'Ending_position', 'laps_completed',\n",
       "       'statusId', 'D_age', 'con_points', 'con_position', 'visibility',\n",
       "       'temperatureHigh', 'temperatureLow', 'windSpeed', 'windBearing',\n",
       "       'humidity', 'averagetime_at_pitstop', 'number', 'q3', 'is_win'],\n",
       "      dtype='object')"
      ]
     },
     "execution_count": 110,
     "metadata": {},
     "output_type": "execute_result"
    }
   ],
   "source": [
    "# singapore 2019 other data\n",
    "df_singapore_2019.columns"
   ]
  },
  {
   "cell_type": "code",
   "execution_count": 111,
   "metadata": {},
   "outputs": [
    {
     "data": {
      "text/plain": [
       "Index(['P1_Pos', 'P2_Pos', 'P3_Pos', 'No', 'Practice_Time1', 'Practice_Time2',\n",
       "       'Practice_Time3', 'Gap_in_Practice_1_time', 'Gap_in_Practice_2_time',\n",
       "       'Gap_in_Practice_3_time', 'p1_Laps_90_min', 'p2_Laps_90_min',\n",
       "       'p3_Laps_90_min'],\n",
       "      dtype='object')"
      ]
     },
     "execution_count": 111,
     "metadata": {},
     "output_type": "execute_result"
    }
   ],
   "source": [
    "# singapore 2019 practice time\n",
    "df_practice_temp_1_2_3.columns"
   ]
  },
  {
   "cell_type": "code",
   "execution_count": 112,
   "metadata": {},
   "outputs": [],
   "source": [
    "df_race=pd.read_csv('./Capstone_core_data/races.csv')"
   ]
  },
  {
   "cell_type": "code",
   "execution_count": 113,
   "metadata": {},
   "outputs": [
    {
     "data": {
      "text/html": [
       "<div>\n",
       "<style scoped>\n",
       "    .dataframe tbody tr th:only-of-type {\n",
       "        vertical-align: middle;\n",
       "    }\n",
       "\n",
       "    .dataframe tbody tr th {\n",
       "        vertical-align: top;\n",
       "    }\n",
       "\n",
       "    .dataframe thead th {\n",
       "        text-align: right;\n",
       "    }\n",
       "</style>\n",
       "<table border=\"1\" class=\"dataframe\">\n",
       "  <thead>\n",
       "    <tr style=\"text-align: right;\">\n",
       "      <th></th>\n",
       "      <th>raceId</th>\n",
       "      <th>year</th>\n",
       "      <th>round</th>\n",
       "      <th>circuitId</th>\n",
       "      <th>name</th>\n",
       "      <th>date</th>\n",
       "      <th>time</th>\n",
       "      <th>url</th>\n",
       "    </tr>\n",
       "  </thead>\n",
       "  <tbody>\n",
       "    <tr>\n",
       "      <td>0</td>\n",
       "      <td>1</td>\n",
       "      <td>2009</td>\n",
       "      <td>1</td>\n",
       "      <td>1</td>\n",
       "      <td>Australian Grand Prix</td>\n",
       "      <td>2009-03-29</td>\n",
       "      <td>06:00:00</td>\n",
       "      <td>http://en.wikipedia.org/wiki/2009_Australian_G...</td>\n",
       "    </tr>\n",
       "    <tr>\n",
       "      <td>1</td>\n",
       "      <td>2</td>\n",
       "      <td>2009</td>\n",
       "      <td>2</td>\n",
       "      <td>2</td>\n",
       "      <td>Malaysian Grand Prix</td>\n",
       "      <td>2009-04-05</td>\n",
       "      <td>09:00:00</td>\n",
       "      <td>http://en.wikipedia.org/wiki/2009_Malaysian_Gr...</td>\n",
       "    </tr>\n",
       "  </tbody>\n",
       "</table>\n",
       "</div>"
      ],
      "text/plain": [
       "   raceId  year  round  circuitId                   name        date  \\\n",
       "0       1  2009      1          1  Australian Grand Prix  2009-03-29   \n",
       "1       2  2009      2          2   Malaysian Grand Prix  2009-04-05   \n",
       "\n",
       "       time                                                url  \n",
       "0  06:00:00  http://en.wikipedia.org/wiki/2009_Australian_G...  \n",
       "1  09:00:00  http://en.wikipedia.org/wiki/2009_Malaysian_Gr...  "
      ]
     },
     "execution_count": 113,
     "metadata": {},
     "output_type": "execute_result"
    }
   ],
   "source": [
    "df_race.head(2)"
   ]
  },
  {
   "cell_type": "code",
   "execution_count": 114,
   "metadata": {},
   "outputs": [],
   "source": [
    "df_standings=pd.read_csv('./Capstone_core_data/driver_standings.csv')"
   ]
  },
  {
   "cell_type": "code",
   "execution_count": 115,
   "metadata": {},
   "outputs": [
    {
     "data": {
      "text/html": [
       "<div>\n",
       "<style scoped>\n",
       "    .dataframe tbody tr th:only-of-type {\n",
       "        vertical-align: middle;\n",
       "    }\n",
       "\n",
       "    .dataframe tbody tr th {\n",
       "        vertical-align: top;\n",
       "    }\n",
       "\n",
       "    .dataframe thead th {\n",
       "        text-align: right;\n",
       "    }\n",
       "</style>\n",
       "<table border=\"1\" class=\"dataframe\">\n",
       "  <thead>\n",
       "    <tr style=\"text-align: right;\">\n",
       "      <th></th>\n",
       "      <th>driverStandingsId</th>\n",
       "      <th>raceId</th>\n",
       "      <th>driverId</th>\n",
       "      <th>points</th>\n",
       "      <th>position</th>\n",
       "      <th>positionText</th>\n",
       "      <th>wins</th>\n",
       "    </tr>\n",
       "  </thead>\n",
       "  <tbody>\n",
       "    <tr>\n",
       "      <td>0</td>\n",
       "      <td>1</td>\n",
       "      <td>18</td>\n",
       "      <td>1</td>\n",
       "      <td>10.0</td>\n",
       "      <td>1</td>\n",
       "      <td>1</td>\n",
       "      <td>1</td>\n",
       "    </tr>\n",
       "    <tr>\n",
       "      <td>1</td>\n",
       "      <td>2</td>\n",
       "      <td>18</td>\n",
       "      <td>2</td>\n",
       "      <td>8.0</td>\n",
       "      <td>2</td>\n",
       "      <td>2</td>\n",
       "      <td>0</td>\n",
       "    </tr>\n",
       "  </tbody>\n",
       "</table>\n",
       "</div>"
      ],
      "text/plain": [
       "   driverStandingsId  raceId  driverId  points  position positionText  wins\n",
       "0                  1      18         1    10.0         1            1     1\n",
       "1                  2      18         2     8.0         2            2     0"
      ]
     },
     "execution_count": 115,
     "metadata": {},
     "output_type": "execute_result"
    }
   ],
   "source": [
    "df_standings.head(2)"
   ]
  },
  {
   "cell_type": "code",
   "execution_count": 116,
   "metadata": {},
   "outputs": [],
   "source": [
    "df_drivers=pd.read_csv('./Capstone_core_data/drivers.csv')"
   ]
  },
  {
   "cell_type": "code",
   "execution_count": 117,
   "metadata": {},
   "outputs": [
    {
     "data": {
      "text/html": [
       "<div>\n",
       "<style scoped>\n",
       "    .dataframe tbody tr th:only-of-type {\n",
       "        vertical-align: middle;\n",
       "    }\n",
       "\n",
       "    .dataframe tbody tr th {\n",
       "        vertical-align: top;\n",
       "    }\n",
       "\n",
       "    .dataframe thead th {\n",
       "        text-align: right;\n",
       "    }\n",
       "</style>\n",
       "<table border=\"1\" class=\"dataframe\">\n",
       "  <thead>\n",
       "    <tr style=\"text-align: right;\">\n",
       "      <th></th>\n",
       "      <th>driverId</th>\n",
       "      <th>driverRef</th>\n",
       "      <th>number</th>\n",
       "      <th>code</th>\n",
       "      <th>forename</th>\n",
       "      <th>surname</th>\n",
       "      <th>dob</th>\n",
       "      <th>nationality</th>\n",
       "      <th>url</th>\n",
       "    </tr>\n",
       "  </thead>\n",
       "  <tbody>\n",
       "    <tr>\n",
       "      <td>0</td>\n",
       "      <td>1</td>\n",
       "      <td>hamilton</td>\n",
       "      <td>44</td>\n",
       "      <td>HAM</td>\n",
       "      <td>Lewis</td>\n",
       "      <td>Hamilton</td>\n",
       "      <td>1985-01-07</td>\n",
       "      <td>British</td>\n",
       "      <td>http://en.wikipedia.org/wiki/Lewis_Hamilton</td>\n",
       "    </tr>\n",
       "    <tr>\n",
       "      <td>1</td>\n",
       "      <td>2</td>\n",
       "      <td>heidfeld</td>\n",
       "      <td>\\N</td>\n",
       "      <td>HEI</td>\n",
       "      <td>Nick</td>\n",
       "      <td>Heidfeld</td>\n",
       "      <td>1977-05-10</td>\n",
       "      <td>German</td>\n",
       "      <td>http://en.wikipedia.org/wiki/Nick_Heidfeld</td>\n",
       "    </tr>\n",
       "  </tbody>\n",
       "</table>\n",
       "</div>"
      ],
      "text/plain": [
       "   driverId driverRef number code forename   surname         dob nationality  \\\n",
       "0         1  hamilton     44  HAM    Lewis  Hamilton  1985-01-07     British   \n",
       "1         2  heidfeld     \\N  HEI     Nick  Heidfeld  1977-05-10      German   \n",
       "\n",
       "                                           url  \n",
       "0  http://en.wikipedia.org/wiki/Lewis_Hamilton  \n",
       "1   http://en.wikipedia.org/wiki/Nick_Heidfeld  "
      ]
     },
     "execution_count": 117,
     "metadata": {},
     "output_type": "execute_result"
    }
   ],
   "source": [
    "df_drivers.head(2)"
   ]
  },
  {
   "cell_type": "code",
   "execution_count": 118,
   "metadata": {},
   "outputs": [
    {
     "data": {
      "text/plain": [
       "Index(['driverId', 'driverRef', 'number', 'code', 'forename', 'surname', 'dob',\n",
       "       'nationality', 'url'],\n",
       "      dtype='object')"
      ]
     },
     "execution_count": 118,
     "metadata": {},
     "output_type": "execute_result"
    }
   ],
   "source": [
    "df_drivers.columns"
   ]
  },
  {
   "cell_type": "code",
   "execution_count": 119,
   "metadata": {},
   "outputs": [],
   "source": [
    "df_drivers.columns=['driverId', 'driverRef', 'No', 'code', 'forename', 'surname', 'dob',\n",
    "       'nationality', 'url']"
   ]
  },
  {
   "cell_type": "code",
   "execution_count": 120,
   "metadata": {},
   "outputs": [
    {
     "data": {
      "text/plain": [
       "Index(['driverId', 'driverRef', 'No', 'code', 'forename', 'surname', 'dob',\n",
       "       'nationality', 'url'],\n",
       "      dtype='object')"
      ]
     },
     "execution_count": 120,
     "metadata": {},
     "output_type": "execute_result"
    }
   ],
   "source": [
    "df_drivers.columns"
   ]
  },
  {
   "cell_type": "code",
   "execution_count": 121,
   "metadata": {},
   "outputs": [
    {
     "data": {
      "text/plain": [
       "Index(['raceId', 'driverId', 'D_points', 'D_wins', 'race_year',\n",
       "       'constructorId_x', 'starting_grid', 'Ending_position', 'laps_completed',\n",
       "       'statusId', 'D_age', 'con_points', 'con_position', 'visibility',\n",
       "       'temperatureHigh', 'temperatureLow', 'windSpeed', 'windBearing',\n",
       "       'humidity', 'averagetime_at_pitstop', 'number', 'q3', 'is_win'],\n",
       "      dtype='object')"
      ]
     },
     "execution_count": 121,
     "metadata": {},
     "output_type": "execute_result"
    }
   ],
   "source": [
    "df_singapore_2019.columns"
   ]
  },
  {
   "cell_type": "code",
   "execution_count": 122,
   "metadata": {},
   "outputs": [],
   "source": [
    "df_singapore=pd.merge(df_singapore_2019,df_drivers,how='inner',on='driverId')"
   ]
  },
  {
   "cell_type": "code",
   "execution_count": 123,
   "metadata": {},
   "outputs": [],
   "source": [
    "df_singapore=df_singapore[['raceId', 'driverId', 'D_points', 'D_wins', 'race_year',\n",
    "       'constructorId_x', 'starting_grid', 'Ending_position', 'laps_completed',\n",
    "       'statusId', 'D_age', 'con_points', 'con_position', 'visibility',\n",
    "       'temperatureHigh', 'temperatureLow', 'windSpeed', 'windBearing',\n",
    "       'humidity', 'averagetime_at_pitstop', 'number', 'q3', 'is_win',\n",
    "       'No', 'forename', 'surname','nationality',\n",
    "       ]]"
   ]
  },
  {
   "cell_type": "code",
   "execution_count": 124,
   "metadata": {},
   "outputs": [],
   "source": [
    "df_singapore['No']=df_singapore['No'].astype(int)"
   ]
  },
  {
   "cell_type": "code",
   "execution_count": 125,
   "metadata": {},
   "outputs": [],
   "source": [
    "# merge both files\n",
    "df_final_singapore=pd.merge(df_singapore,df_practice_temp_1_2_3,how='inner',on='No')"
   ]
  },
  {
   "cell_type": "code",
   "execution_count": 126,
   "metadata": {},
   "outputs": [
    {
     "data": {
      "text/plain": [
       "Index(['raceId', 'driverId', 'D_points', 'D_wins', 'race_year',\n",
       "       'constructorId_x', 'starting_grid', 'Ending_position', 'laps_completed',\n",
       "       'statusId', 'D_age', 'con_points', 'con_position', 'visibility',\n",
       "       'temperatureHigh', 'temperatureLow', 'windSpeed', 'windBearing',\n",
       "       'humidity', 'averagetime_at_pitstop', 'number', 'q3', 'is_win', 'No',\n",
       "       'forename', 'surname', 'nationality', 'P1_Pos', 'P2_Pos', 'P3_Pos',\n",
       "       'Practice_Time1', 'Practice_Time2', 'Practice_Time3',\n",
       "       'Gap_in_Practice_1_time', 'Gap_in_Practice_2_time',\n",
       "       'Gap_in_Practice_3_time', 'p1_Laps_90_min', 'p2_Laps_90_min',\n",
       "       'p3_Laps_90_min'],\n",
       "      dtype='object')"
      ]
     },
     "execution_count": 126,
     "metadata": {},
     "output_type": "execute_result"
    }
   ],
   "source": [
    "df_final_singapore.columns"
   ]
  },
  {
   "cell_type": "code",
   "execution_count": 127,
   "metadata": {},
   "outputs": [],
   "source": [
    "df_final_singapore=df_final_singapore[['driverId', 'D_points', 'D_wins',\n",
    "       'constructorId_x', 'starting_grid', 'Ending_position', 'laps_completed',\n",
    "         'con_points', 'con_position', 'visibility',\n",
    "       'temperatureHigh', 'temperatureLow', 'windSpeed', 'windBearing',\n",
    "       'humidity', 'averagetime_at_pitstop','q3', 'is_win', \n",
    "       'forename', 'surname', 'P1_Pos', 'P2_Pos', 'P3_Pos',\n",
    "       'Practice_Time1', 'Practice_Time2', 'Practice_Time3',\n",
    "       'Gap_in_Practice_1_time', 'Gap_in_Practice_2_time',\n",
    "       'Gap_in_Practice_3_time', 'p1_Laps_90_min', 'p2_Laps_90_min',\n",
    "       'p3_Laps_90_min']]"
   ]
  },
  {
   "cell_type": "code",
   "execution_count": 128,
   "metadata": {},
   "outputs": [
    {
     "data": {
      "text/html": [
       "<div>\n",
       "<style scoped>\n",
       "    .dataframe tbody tr th:only-of-type {\n",
       "        vertical-align: middle;\n",
       "    }\n",
       "\n",
       "    .dataframe tbody tr th {\n",
       "        vertical-align: top;\n",
       "    }\n",
       "\n",
       "    .dataframe thead th {\n",
       "        text-align: right;\n",
       "    }\n",
       "</style>\n",
       "<table border=\"1\" class=\"dataframe\">\n",
       "  <thead>\n",
       "    <tr style=\"text-align: right;\">\n",
       "      <th></th>\n",
       "      <th>driverId</th>\n",
       "      <th>D_points</th>\n",
       "      <th>D_wins</th>\n",
       "      <th>constructorId_x</th>\n",
       "      <th>starting_grid</th>\n",
       "      <th>Ending_position</th>\n",
       "      <th>laps_completed</th>\n",
       "      <th>con_points</th>\n",
       "      <th>con_position</th>\n",
       "      <th>visibility</th>\n",
       "      <th>temperatureHigh</th>\n",
       "      <th>temperatureLow</th>\n",
       "      <th>windSpeed</th>\n",
       "      <th>...</th>\n",
       "      <th>surname</th>\n",
       "      <th>P1_Pos</th>\n",
       "      <th>P2_Pos</th>\n",
       "      <th>P3_Pos</th>\n",
       "      <th>Practice_Time1</th>\n",
       "      <th>Practice_Time2</th>\n",
       "      <th>Practice_Time3</th>\n",
       "      <th>Gap_in_Practice_1_time</th>\n",
       "      <th>Gap_in_Practice_2_time</th>\n",
       "      <th>Gap_in_Practice_3_time</th>\n",
       "      <th>p1_Laps_90_min</th>\n",
       "      <th>p2_Laps_90_min</th>\n",
       "      <th>p3_Laps_90_min</th>\n",
       "    </tr>\n",
       "  </thead>\n",
       "  <tbody>\n",
       "    <tr>\n",
       "      <td>0</td>\n",
       "      <td>822</td>\n",
       "      <td>231.0</td>\n",
       "      <td>1</td>\n",
       "      <td>131</td>\n",
       "      <td>5</td>\n",
       "      <td>5</td>\n",
       "      <td>61</td>\n",
       "      <td>527.0</td>\n",
       "      <td>1</td>\n",
       "      <td>10.0</td>\n",
       "      <td>90.34</td>\n",
       "      <td>79.85</td>\n",
       "      <td>10.33</td>\n",
       "      <td>...</td>\n",
       "      <td>Bottas</td>\n",
       "      <td>4</td>\n",
       "      <td>4</td>\n",
       "      <td>4</td>\n",
       "      <td>6078</td>\n",
       "      <td>5994</td>\n",
       "      <td>5934</td>\n",
       "      <td>+1.077s</td>\n",
       "      <td>+1.121s</td>\n",
       "      <td>+0.693s</td>\n",
       "      <td>14</td>\n",
       "      <td>30</td>\n",
       "      <td>16</td>\n",
       "    </tr>\n",
       "    <tr>\n",
       "      <td>1</td>\n",
       "      <td>1</td>\n",
       "      <td>296.0</td>\n",
       "      <td>1</td>\n",
       "      <td>131</td>\n",
       "      <td>2</td>\n",
       "      <td>4</td>\n",
       "      <td>61</td>\n",
       "      <td>527.0</td>\n",
       "      <td>1</td>\n",
       "      <td>10.0</td>\n",
       "      <td>90.34</td>\n",
       "      <td>79.85</td>\n",
       "      <td>10.33</td>\n",
       "      <td>...</td>\n",
       "      <td>Hamilton</td>\n",
       "      <td>3</td>\n",
       "      <td>1</td>\n",
       "      <td>2</td>\n",
       "      <td>6054</td>\n",
       "      <td>5928</td>\n",
       "      <td>5904</td>\n",
       "      <td>+0.666s</td>\n",
       "      <td>0</td>\n",
       "      <td>+0.207s</td>\n",
       "      <td>26</td>\n",
       "      <td>29</td>\n",
       "      <td>15</td>\n",
       "    </tr>\n",
       "  </tbody>\n",
       "</table>\n",
       "<p>2 rows × 32 columns</p>\n",
       "</div>"
      ],
      "text/plain": [
       "   driverId  D_points  D_wins  constructorId_x  starting_grid  \\\n",
       "0       822     231.0       1              131              5   \n",
       "1         1     296.0       1              131              2   \n",
       "\n",
       "   Ending_position  laps_completed  con_points  con_position  visibility  \\\n",
       "0                5              61       527.0             1        10.0   \n",
       "1                4              61       527.0             1        10.0   \n",
       "\n",
       "   temperatureHigh  temperatureLow  windSpeed  ...   surname  P1_Pos  P2_Pos  \\\n",
       "0            90.34           79.85      10.33  ...    Bottas       4       4   \n",
       "1            90.34           79.85      10.33  ...  Hamilton       3       1   \n",
       "\n",
       "   P3_Pos  Practice_Time1 Practice_Time2 Practice_Time3  \\\n",
       "0       4            6078           5994           5934   \n",
       "1       2            6054           5928           5904   \n",
       "\n",
       "   Gap_in_Practice_1_time  Gap_in_Practice_2_time  Gap_in_Practice_3_time  \\\n",
       "0                 +1.077s                 +1.121s                 +0.693s   \n",
       "1                 +0.666s                       0                 +0.207s   \n",
       "\n",
       "   p1_Laps_90_min  p2_Laps_90_min  p3_Laps_90_min  \n",
       "0              14              30              16  \n",
       "1              26              29              15  \n",
       "\n",
       "[2 rows x 32 columns]"
      ]
     },
     "execution_count": 128,
     "metadata": {},
     "output_type": "execute_result"
    }
   ],
   "source": [
    "df_final_singapore.head(2)"
   ]
  },
  {
   "cell_type": "code",
   "execution_count": 129,
   "metadata": {},
   "outputs": [
    {
     "data": {
      "image/png": "[encoded data removed]",
      "text/plain": [
       "<Figure size 432x288 with 1 Axes>"
      ]
     },
     "metadata": {
      "needs_background": "light"
     },
     "output_type": "display_data"
    }
   ],
   "source": [
    "import seaborn as sns\n",
    "plt.figure()\n",
    "sns.distplot(df_final_singapore[\"Practice_Time3\"], hist=False, color=\"r\")\n",
    "sns.distplot(df_final_singapore[\"Practice_Time2\"], hist=False, color=\"g\")\n",
    "sns.distplot(df_final_singapore[\"Practice_Time1\"], hist=False, color=\"b\")\n",
    "plt.xlabel(\"practice_times\")\n",
    "plt.title(\"Practice_time Distribution in singapore season\")\n",
    "plt.show()\n",
    "plt.close()"
   ]
  },
  {
   "cell_type": "code",
   "execution_count": 130,
   "metadata": {},
   "outputs": [],
   "source": [
    "df_plots=df_final_singapore[[ 'driverId','D_points','visibility',\n",
    "       'temperatureHigh', 'temperatureLow', 'windSpeed', 'windBearing',\n",
    "       'humidity', 'averagetime_at_pitstop','q3','Practice_Time1', 'Practice_Time2', 'Practice_Time3']]"
   ]
  },
  {
   "cell_type": "code",
   "execution_count": 131,
   "metadata": {},
   "outputs": [
    {
     "data": {
      "text/html": [
       "<div>\n",
       "<style scoped>\n",
       "    .dataframe tbody tr th:only-of-type {\n",
       "        vertical-align: middle;\n",
       "    }\n",
       "\n",
       "    .dataframe tbody tr th {\n",
       "        vertical-align: top;\n",
       "    }\n",
       "\n",
       "    .dataframe thead th {\n",
       "        text-align: right;\n",
       "    }\n",
       "</style>\n",
       "<table border=\"1\" class=\"dataframe\">\n",
       "  <thead>\n",
       "    <tr style=\"text-align: right;\">\n",
       "      <th></th>\n",
       "      <th>driverId</th>\n",
       "      <th>D_points</th>\n",
       "      <th>visibility</th>\n",
       "      <th>temperatureHigh</th>\n",
       "      <th>temperatureLow</th>\n",
       "      <th>windSpeed</th>\n",
       "      <th>windBearing</th>\n",
       "      <th>humidity</th>\n",
       "      <th>averagetime_at_pitstop</th>\n",
       "      <th>q3</th>\n",
       "      <th>Practice_Time1</th>\n",
       "      <th>Practice_Time2</th>\n",
       "      <th>Practice_Time3</th>\n",
       "    </tr>\n",
       "  </thead>\n",
       "  <tbody>\n",
       "    <tr>\n",
       "      <td>0</td>\n",
       "      <td>822</td>\n",
       "      <td>231.0</td>\n",
       "      <td>10.0</td>\n",
       "      <td>90.34</td>\n",
       "      <td>79.85</td>\n",
       "      <td>10.33</td>\n",
       "      <td>121.0</td>\n",
       "      <td>0.79</td>\n",
       "      <td>29234.0</td>\n",
       "      <td>5828</td>\n",
       "      <td>6078</td>\n",
       "      <td>5994</td>\n",
       "      <td>5934</td>\n",
       "    </tr>\n",
       "    <tr>\n",
       "      <td>1</td>\n",
       "      <td>1</td>\n",
       "      <td>296.0</td>\n",
       "      <td>10.0</td>\n",
       "      <td>90.34</td>\n",
       "      <td>79.85</td>\n",
       "      <td>10.33</td>\n",
       "      <td>121.0</td>\n",
       "      <td>0.79</td>\n",
       "      <td>28930.0</td>\n",
       "      <td>5784</td>\n",
       "      <td>6054</td>\n",
       "      <td>5928</td>\n",
       "      <td>5904</td>\n",
       "    </tr>\n",
       "    <tr>\n",
       "      <td>2</td>\n",
       "      <td>830</td>\n",
       "      <td>200.0</td>\n",
       "      <td>10.0</td>\n",
       "      <td>90.34</td>\n",
       "      <td>79.85</td>\n",
       "      <td>10.33</td>\n",
       "      <td>121.0</td>\n",
       "      <td>0.79</td>\n",
       "      <td>28846.0</td>\n",
       "      <td>5808</td>\n",
       "      <td>6018</td>\n",
       "      <td>5940</td>\n",
       "      <td>5964</td>\n",
       "    </tr>\n",
       "    <tr>\n",
       "      <td>3</td>\n",
       "      <td>848</td>\n",
       "      <td>42.0</td>\n",
       "      <td>10.0</td>\n",
       "      <td>90.34</td>\n",
       "      <td>79.85</td>\n",
       "      <td>10.33</td>\n",
       "      <td>121.0</td>\n",
       "      <td>0.79</td>\n",
       "      <td>28606.0</td>\n",
       "      <td>5844</td>\n",
       "      <td>6090</td>\n",
       "      <td>5994</td>\n",
       "      <td>5958</td>\n",
       "    </tr>\n",
       "    <tr>\n",
       "      <td>4</td>\n",
       "      <td>20</td>\n",
       "      <td>194.0</td>\n",
       "      <td>10.0</td>\n",
       "      <td>90.34</td>\n",
       "      <td>79.85</td>\n",
       "      <td>10.33</td>\n",
       "      <td>121.0</td>\n",
       "      <td>0.79</td>\n",
       "      <td>29384.0</td>\n",
       "      <td>5786</td>\n",
       "      <td>6024</td>\n",
       "      <td>5976</td>\n",
       "      <td>5928</td>\n",
       "    </tr>\n",
       "    <tr>\n",
       "      <td>5</td>\n",
       "      <td>844</td>\n",
       "      <td>200.0</td>\n",
       "      <td>10.0</td>\n",
       "      <td>90.34</td>\n",
       "      <td>79.85</td>\n",
       "      <td>10.33</td>\n",
       "      <td>121.0</td>\n",
       "      <td>0.79</td>\n",
       "      <td>29168.0</td>\n",
       "      <td>5773</td>\n",
       "      <td>6216</td>\n",
       "      <td>6000</td>\n",
       "      <td>5892</td>\n",
       "    </tr>\n",
       "    <tr>\n",
       "      <td>6</td>\n",
       "      <td>825</td>\n",
       "      <td>18.0</td>\n",
       "      <td>10.0</td>\n",
       "      <td>90.34</td>\n",
       "      <td>79.85</td>\n",
       "      <td>10.33</td>\n",
       "      <td>121.0</td>\n",
       "      <td>0.79</td>\n",
       "      <td>30159.5</td>\n",
       "      <td>5979</td>\n",
       "      <td>6192</td>\n",
       "      <td>6096</td>\n",
       "      <td>6090</td>\n",
       "    </tr>\n",
       "    <tr>\n",
       "      <td>7</td>\n",
       "      <td>154</td>\n",
       "      <td>8.0</td>\n",
       "      <td>10.0</td>\n",
       "      <td>90.34</td>\n",
       "      <td>79.85</td>\n",
       "      <td>10.33</td>\n",
       "      <td>121.0</td>\n",
       "      <td>0.79</td>\n",
       "      <td>36516.0</td>\n",
       "      <td>6016</td>\n",
       "      <td>6156</td>\n",
       "      <td>6084</td>\n",
       "      <td>6090</td>\n",
       "    </tr>\n",
       "    <tr>\n",
       "      <td>8</td>\n",
       "      <td>807</td>\n",
       "      <td>33.0</td>\n",
       "      <td>10.0</td>\n",
       "      <td>90.34</td>\n",
       "      <td>79.85</td>\n",
       "      <td>10.33</td>\n",
       "      <td>121.0</td>\n",
       "      <td>0.79</td>\n",
       "      <td>29357.5</td>\n",
       "      <td>5895</td>\n",
       "      <td>6108</td>\n",
       "      <td>6018</td>\n",
       "      <td>6006</td>\n",
       "    </tr>\n",
       "    <tr>\n",
       "      <td>9</td>\n",
       "      <td>8</td>\n",
       "      <td>31.0</td>\n",
       "      <td>10.0</td>\n",
       "      <td>90.34</td>\n",
       "      <td>79.85</td>\n",
       "      <td>10.33</td>\n",
       "      <td>121.0</td>\n",
       "      <td>0.79</td>\n",
       "      <td>29992.0</td>\n",
       "      <td>5931</td>\n",
       "      <td>6168</td>\n",
       "      <td>6072</td>\n",
       "      <td>6060</td>\n",
       "    </tr>\n",
       "    <tr>\n",
       "      <td>10</td>\n",
       "      <td>841</td>\n",
       "      <td>4.0</td>\n",
       "      <td>10.0</td>\n",
       "      <td>90.34</td>\n",
       "      <td>79.85</td>\n",
       "      <td>10.33</td>\n",
       "      <td>121.0</td>\n",
       "      <td>0.79</td>\n",
       "      <td>29015.0</td>\n",
       "      <td>5921</td>\n",
       "      <td>6162</td>\n",
       "      <td>6066</td>\n",
       "      <td>6072</td>\n",
       "    </tr>\n",
       "    <tr>\n",
       "      <td>11</td>\n",
       "      <td>840</td>\n",
       "      <td>19.0</td>\n",
       "      <td>10.0</td>\n",
       "      <td>90.34</td>\n",
       "      <td>79.85</td>\n",
       "      <td>10.33</td>\n",
       "      <td>121.0</td>\n",
       "      <td>0.79</td>\n",
       "      <td>32710.0</td>\n",
       "      <td>5998</td>\n",
       "      <td>6168</td>\n",
       "      <td>6066</td>\n",
       "      <td>6012</td>\n",
       "    </tr>\n",
       "    <tr>\n",
       "      <td>12</td>\n",
       "      <td>815</td>\n",
       "      <td>27.0</td>\n",
       "      <td>10.0</td>\n",
       "      <td>90.34</td>\n",
       "      <td>79.85</td>\n",
       "      <td>10.33</td>\n",
       "      <td>121.0</td>\n",
       "      <td>0.79</td>\n",
       "      <td>29082.0</td>\n",
       "      <td>5911</td>\n",
       "      <td>6204</td>\n",
       "      <td>6054</td>\n",
       "      <td>6060</td>\n",
       "    </tr>\n",
       "    <tr>\n",
       "      <td>13</td>\n",
       "      <td>842</td>\n",
       "      <td>69.0</td>\n",
       "      <td>10.0</td>\n",
       "      <td>90.34</td>\n",
       "      <td>79.85</td>\n",
       "      <td>10.33</td>\n",
       "      <td>121.0</td>\n",
       "      <td>0.79</td>\n",
       "      <td>32482.0</td>\n",
       "      <td>5921</td>\n",
       "      <td>6144</td>\n",
       "      <td>6036</td>\n",
       "      <td>6018</td>\n",
       "    </tr>\n",
       "    <tr>\n",
       "      <td>14</td>\n",
       "      <td>846</td>\n",
       "      <td>31.0</td>\n",
       "      <td>10.0</td>\n",
       "      <td>90.34</td>\n",
       "      <td>79.85</td>\n",
       "      <td>10.33</td>\n",
       "      <td>121.0</td>\n",
       "      <td>0.79</td>\n",
       "      <td>30397.0</td>\n",
       "      <td>5899</td>\n",
       "      <td>6132</td>\n",
       "      <td>6024</td>\n",
       "      <td>5982</td>\n",
       "    </tr>\n",
       "    <tr>\n",
       "      <td>15</td>\n",
       "      <td>832</td>\n",
       "      <td>58.0</td>\n",
       "      <td>10.0</td>\n",
       "      <td>90.34</td>\n",
       "      <td>79.85</td>\n",
       "      <td>10.33</td>\n",
       "      <td>121.0</td>\n",
       "      <td>0.79</td>\n",
       "      <td>30623.0</td>\n",
       "      <td>5869</td>\n",
       "      <td>6120</td>\n",
       "      <td>6006</td>\n",
       "      <td>5970</td>\n",
       "    </tr>\n",
       "    <tr>\n",
       "      <td>16</td>\n",
       "      <td>847</td>\n",
       "      <td>0.0</td>\n",
       "      <td>10.0</td>\n",
       "      <td>90.34</td>\n",
       "      <td>79.85</td>\n",
       "      <td>10.33</td>\n",
       "      <td>121.0</td>\n",
       "      <td>0.79</td>\n",
       "      <td>38752.0</td>\n",
       "      <td>6052</td>\n",
       "      <td>6240</td>\n",
       "      <td>6084</td>\n",
       "      <td>6072</td>\n",
       "    </tr>\n",
       "    <tr>\n",
       "      <td>17</td>\n",
       "      <td>9</td>\n",
       "      <td>1.0</td>\n",
       "      <td>10.0</td>\n",
       "      <td>90.34</td>\n",
       "      <td>79.85</td>\n",
       "      <td>10.33</td>\n",
       "      <td>121.0</td>\n",
       "      <td>0.79</td>\n",
       "      <td>29677.0</td>\n",
       "      <td>6071</td>\n",
       "      <td>6198</td>\n",
       "      <td>6132</td>\n",
       "      <td>6120</td>\n",
       "    </tr>\n",
       "  </tbody>\n",
       "</table>\n",
       "</div>"
      ],
      "text/plain": [
       "    driverId  D_points  visibility  temperatureHigh  temperatureLow  \\\n",
       "0        822     231.0        10.0            90.34           79.85   \n",
       "1          1     296.0        10.0            90.34           79.85   \n",
       "2        830     200.0        10.0            90.34           79.85   \n",
       "3        848      42.0        10.0            90.34           79.85   \n",
       "4         20     194.0        10.0            90.34           79.85   \n",
       "5        844     200.0        10.0            90.34           79.85   \n",
       "6        825      18.0        10.0            90.34           79.85   \n",
       "7        154       8.0        10.0            90.34           79.85   \n",
       "8        807      33.0        10.0            90.34           79.85   \n",
       "9          8      31.0        10.0            90.34           79.85   \n",
       "10       841       4.0        10.0            90.34           79.85   \n",
       "11       840      19.0        10.0            90.34           79.85   \n",
       "12       815      27.0        10.0            90.34           79.85   \n",
       "13       842      69.0        10.0            90.34           79.85   \n",
       "14       846      31.0        10.0            90.34           79.85   \n",
       "15       832      58.0        10.0            90.34           79.85   \n",
       "16       847       0.0        10.0            90.34           79.85   \n",
       "17         9       1.0        10.0            90.34           79.85   \n",
       "\n",
       "    windSpeed  windBearing  humidity  averagetime_at_pitstop    q3  \\\n",
       "0       10.33        121.0      0.79                 29234.0  5828   \n",
       "1       10.33        121.0      0.79                 28930.0  5784   \n",
       "2       10.33        121.0      0.79                 28846.0  5808   \n",
       "3       10.33        121.0      0.79                 28606.0  5844   \n",
       "4       10.33        121.0      0.79                 29384.0  5786   \n",
       "5       10.33        121.0      0.79                 29168.0  5773   \n",
       "6       10.33        121.0      0.79                 30159.5  5979   \n",
       "7       10.33        121.0      0.79                 36516.0  6016   \n",
       "8       10.33        121.0      0.79                 29357.5  5895   \n",
       "9       10.33        121.0      0.79                 29992.0  5931   \n",
       "10      10.33        121.0      0.79                 29015.0  5921   \n",
       "11      10.33        121.0      0.79                 32710.0  5998   \n",
       "12      10.33        121.0      0.79                 29082.0  5911   \n",
       "13      10.33        121.0      0.79                 32482.0  5921   \n",
       "14      10.33        121.0      0.79                 30397.0  5899   \n",
       "15      10.33        121.0      0.79                 30623.0  5869   \n",
       "16      10.33        121.0      0.79                 38752.0  6052   \n",
       "17      10.33        121.0      0.79                 29677.0  6071   \n",
       "\n",
       "    Practice_Time1  Practice_Time2  Practice_Time3  \n",
       "0             6078            5994            5934  \n",
       "1             6054            5928            5904  \n",
       "2             6018            5940            5964  \n",
       "3             6090            5994            5958  \n",
       "4             6024            5976            5928  \n",
       "5             6216            6000            5892  \n",
       "6             6192            6096            6090  \n",
       "7             6156            6084            6090  \n",
       "8             6108            6018            6006  \n",
       "9             6168            6072            6060  \n",
       "10            6162            6066            6072  \n",
       "11            6168            6066            6012  \n",
       "12            6204            6054            6060  \n",
       "13            6144            6036            6018  \n",
       "14            6132            6024            5982  \n",
       "15            6120            6006            5970  \n",
       "16            6240            6084            6072  \n",
       "17            6198            6132            6120  "
      ]
     },
     "execution_count": 131,
     "metadata": {},
     "output_type": "execute_result"
    }
   ],
   "source": [
    "df_plots\n",
    "\n"
   ]
  },
  {
   "cell_type": "code",
   "execution_count": 132,
   "metadata": {},
   "outputs": [
    {
     "name": "stderr",
     "output_type": "stream",
     "text": [
      "/opt/anaconda3/lib/python3.7/site-packages/seaborn/distributions.py:679: UserWarning: Passing a 2D dataset for a bivariate plot is deprecated in favor of kdeplot(x, y), and it will cause an error in future versions. Please update your code.\n",
      "  warnings.warn(warn_msg, UserWarning)\n"
     ]
    },
    {
     "data": {
      "text/plain": [
       "<matplotlib.axes._subplots.AxesSubplot at 0x1a1d427b50>"
      ]
     },
     "execution_count": 132,
     "metadata": {},
     "output_type": "execute_result"
    },
    {
     "data": {
      "image/png": "[encoded data removed]",
      "text/plain": [
       "<Figure size 432x288 with 1 Axes>"
      ]
     },
     "metadata": {
      "needs_background": "light"
     },
     "output_type": "display_data"
    }
   ],
   "source": [
    "sns.kdeplot(df_plots[[\n",
    "        'Practice_Time1', 'Practice_Time2', 'Practice_Time3']], shade=True)"
   ]
  },
  {
   "cell_type": "code",
   "execution_count": 133,
   "metadata": {},
   "outputs": [],
   "source": [
    "df_analysis.to_csv('./intermediate_files/final_dataframe_singapore_analysis.csv')"
   ]
  }
 ],
 "metadata": {
  "kernelspec": {
   "display_name": "Python 3",
   "language": "python",
   "name": "python3"
  },
  "language_info": {
   "codemirror_mode": {
    "name": "ipython",
    "version": 3
   },
   "file_extension": ".py",
   "mimetype": "text/x-python",
   "name": "python",
   "nbconvert_exporter": "python",
   "pygments_lexer": "ipython3",
   "version": "3.7.4"
  }
 },
 "nbformat": 4,
 "nbformat_minor": 4
}
